{
 "cells": [
  {
   "cell_type": "raw",
   "metadata": {},
   "source": [
    "---\n",
    "title: Tidyverse\n",
    "subtitle: R for Data Science by Wickham & Grolemund\n",
    "date: Feb 17, 2023\n",
    "author: Sungkyun Cho\n",
    "---"
   ]
  },
  {
   "cell_type": "code",
   "execution_count": 38,
   "metadata": {
    "vscode": {
     "languageId": "r"
    }
   },
   "outputs": [],
   "source": [
    "#| echo: false\n",
    "#| warning: false\n",
    "library(tidyverse)\n",
    "options(repr.matrix.min.rows = 6)\n",
    "options(tibble.print_min=6)"
   ]
  },
  {
   "attachments": {},
   "cell_type": "markdown",
   "metadata": {},
   "source": [
    "## Inspecting data\n",
    "함수들: `print()`, `glimpse()`, `summary()`, `count()`  \n",
    "`()` 안에 들어가는 것을 argument라고 부름"
   ]
  },
  {
   "cell_type": "code",
   "execution_count": 3,
   "metadata": {
    "vscode": {
     "languageId": "r"
    }
   },
   "outputs": [
    {
     "name": "stdout",
     "output_type": "stream",
     "text": [
      "\u001b[90m# A tibble: 534 × 11\u001b[39m\n",
      "   wage  educ race  sex   hispanic south married exper union   age sector  \n",
      "  \u001b[3m\u001b[90m<dbl>\u001b[39m\u001b[23m \u001b[3m\u001b[90m<int>\u001b[39m\u001b[23m \u001b[3m\u001b[90m<fct>\u001b[39m\u001b[23m \u001b[3m\u001b[90m<fct>\u001b[39m\u001b[23m \u001b[3m\u001b[90m<fct>\u001b[39m\u001b[23m    \u001b[3m\u001b[90m<fct>\u001b[39m\u001b[23m \u001b[3m\u001b[90m<fct>\u001b[39m\u001b[23m   \u001b[3m\u001b[90m<int>\u001b[39m\u001b[23m \u001b[3m\u001b[90m<fct>\u001b[39m\u001b[23m \u001b[3m\u001b[90m<int>\u001b[39m\u001b[23m \u001b[3m\u001b[90m<fct>\u001b[39m\u001b[23m   \n",
      "\u001b[90m1\u001b[39m   9      10 W     M     NH       NS    Married    27 Not      43 const   \n",
      "\u001b[90m2\u001b[39m   5.5    12 W     M     NH       NS    Married    20 Not      38 sales   \n",
      "\u001b[90m3\u001b[39m   3.8    12 W     F     NH       NS    Single      4 Not      22 sales   \n",
      "\u001b[90m4\u001b[39m  10.5    12 W     F     NH       NS    Married    29 Not      47 clerical\n",
      "\u001b[90m5\u001b[39m  15      12 W     M     NH       NS    Married    40 Union    58 const   \n",
      "\u001b[90m6\u001b[39m   9      16 W     F     NH       NS    Married    27 Not      49 clerical\n",
      "\u001b[90m# … with 528 more rows\u001b[39m\n"
     ]
    }
   ],
   "source": [
    "#| warning: false\n",
    "library(tidyverse)\n",
    "\n",
    "cps <- as_tibble(mosaicData::CPS85) # mosaicData package의 CPS85 데이터셋\n",
    "print(cps) # print 생략!"
   ]
  },
  {
   "attachments": {},
   "cell_type": "markdown",
   "metadata": {},
   "source": [
    "::: {.callout-warning}\n",
    "# `print()`\n",
    "강의 노트에서 `print()`를 쓰는 것은 jupyter notebook에서 data frame을 표시하는 방식때문이므로 무시하셔도 됩니다.\n",
    ":::"
   ]
  },
  {
   "cell_type": "code",
   "execution_count": 4,
   "metadata": {
    "vscode": {
     "languageId": "r"
    }
   },
   "outputs": [
    {
     "name": "stdout",
     "output_type": "stream",
     "text": [
      "\u001b[90m# A tibble: 534 × 11\u001b[39m\n",
      "   wage  educ race  sex   hispanic south married exper union   age sector\n",
      "  \u001b[3m\u001b[90m<dbl>\u001b[39m\u001b[23m \u001b[3m\u001b[90m<int>\u001b[39m\u001b[23m \u001b[3m\u001b[90m<fct>\u001b[39m\u001b[23m \u001b[3m\u001b[90m<fct>\u001b[39m\u001b[23m \u001b[3m\u001b[90m<fct>\u001b[39m\u001b[23m    \u001b[3m\u001b[90m<fct>\u001b[39m\u001b[23m \u001b[3m\u001b[90m<fct>\u001b[39m\u001b[23m   \u001b[3m\u001b[90m<int>\u001b[39m\u001b[23m \u001b[3m\u001b[90m<fct>\u001b[39m\u001b[23m \u001b[3m\u001b[90m<int>\u001b[39m\u001b[23m \u001b[3m\u001b[90m<fct>\u001b[39m\u001b[23m \n",
      "\u001b[90m1\u001b[39m   9      10 W     M     NH       NS    Married    27 Not      43 const \n",
      "\u001b[90m2\u001b[39m   5.5    12 W     M     NH       NS    Married    20 Not      38 sales \n",
      "\u001b[90m3\u001b[39m   3.8    12 W     F     NH       NS    Single      4 Not      22 sales \n",
      "\u001b[90m# … with 531 more rows\u001b[39m\n"
     ]
    }
   ],
   "source": [
    "print(cps, n = 3) # 처음 10개 행"
   ]
  },
  {
   "attachments": {},
   "cell_type": "markdown",
   "metadata": {},
   "source": [
    "::: {.callout-tip collapse=true}\n",
    "# tip: `print()` 옵션  \n",
    "`print(tibble, n = 10, width = Inf)`  # 10개의 rows와 모든 columns\n",
    "\n",
    "기본 셋팅을 변경하려면  \n",
    "`options(tibble.print_min = 10, tibble.width = Inf)` \n",
    "\n",
    "Columns/변수들이 많은 경우 화면에서 다음과 같이 축약되어 나오는데, 이를 다 보려면 \n",
    "```r\n",
    "print(nycflights13::flights) # nycflights13 패키지의 flights 데이터\n",
    "# # A tibble: 336,776 × 19\n",
    "#    year month   day dep_time sched_dep…¹ dep_d…² arr_t…³ sched…⁴ arr_d…⁵ carrier\n",
    "#   <int> <int> <int>    <int>       <int>   <dbl>   <int>   <int>   <dbl> <chr>  \n",
    "# 1  2013     1     1      517         515       2     830     819      11 UA     \n",
    "# 2  2013     1     1      533         529       4     850     830      20 UA     \n",
    "# 3  2013     1     1      542         540       2     923     850      33 AA     \n",
    "# 4  2013     1     1      544         545      -1    1004    1022     -18 B6     \n",
    "# 5  2013     1     1      554         600      -6     812     837     -25 DL     \n",
    "# 6  2013     1     1      554         558      -4     740     728      12 UA     \n",
    "# # … with 336,770 more rows, 9 more variables: flight <int>, tailnum <chr>,\n",
    "# #   origin <chr>, dest <chr>, air_time <dbl>, distance <dbl>, hour <dbl>,\n",
    "# #   minute <dbl>, time_hour <dttm>, and abbreviated variable names\n",
    "# #   ¹​sched_dep_time, ²​dep_delay, ³​arr_time, ⁴​sched_arr_time, ⁵​arr_delay\n",
    "\n",
    "print(nycflights13::flights, n = 3, width = Inf) # 가로 열의 개수: Inf (모든 열)\n",
    "# # A tibble: 336,776 × 19\n",
    "#    year month   day dep_time sched_dep_time dep_delay arr_time sched_arr_time\n",
    "#   <int> <int> <int>    <int>          <int>     <dbl>    <int>          <int>\n",
    "# 1  2013     1     1      517            515         2      830            819\n",
    "# 2  2013     1     1      533            529         4      850            830\n",
    "# 3  2013     1     1      542            540         2      923            850\n",
    "#   arr_delay carrier flight tailnum origin dest  air_time distance  hour minute\n",
    "#       <dbl> <chr>    <int> <chr>   <chr>  <chr>    <dbl>    <dbl> <dbl>  <dbl>\n",
    "# 1        11 UA        1545 N14228  EWR    IAH        227     1400     5     15\n",
    "# 2        20 UA        1714 N24211  LGA    IAH        227     1416     5     29\n",
    "# 3        33 AA        1141 N619AA  JFK    MIA        160     1089     5     40\n",
    "#   time_hour          \n",
    "#   <dttm>             \n",
    "# 1 2013-01-01 05:00:00\n",
    "# 2 2013-01-01 05:00:00\n",
    "# 3 2013-01-01 05:00:00\n",
    "# # … with 336,773 more rows\n",
    "```\n",
    ":::"
   ]
  },
  {
   "attachments": {},
   "cell_type": "markdown",
   "metadata": {},
   "source": [
    "많은 변수들을 간략히 보는 방법으로는 `glimpse()`"
   ]
  },
  {
   "cell_type": "code",
   "execution_count": 7,
   "metadata": {
    "vscode": {
     "languageId": "r"
    }
   },
   "outputs": [
    {
     "name": "stdout",
     "output_type": "stream",
     "text": [
      "Rows: 534\n",
      "Columns: 11\n",
      "$ wage     \u001b[3m\u001b[90m<dbl>\u001b[39m\u001b[23m 9.00, 5.50, 3.80, 10.50, 15.00, 9.00, 9.57, 15.00, 11.00, 5.0…\n",
      "$ educ     \u001b[3m\u001b[90m<int>\u001b[39m\u001b[23m 10, 12, 12, 12, 12, 16, 12, 14, 8, 12, 17, 17, 14, 14, 12, 14…\n",
      "$ race     \u001b[3m\u001b[90m<fct>\u001b[39m\u001b[23m W, W, W, W, W, W, W, W, W, W, W, W, W, W, W, W, W, NW, NW, W,…\n",
      "$ sex      \u001b[3m\u001b[90m<fct>\u001b[39m\u001b[23m M, M, F, F, M, F, F, M, M, F, M, M, M, M, M, M, M, M, M, M, F…\n",
      "$ hispanic \u001b[3m\u001b[90m<fct>\u001b[39m\u001b[23m NH, NH, NH, NH, NH, NH, NH, NH, NH, NH, Hisp, NH, Hisp, NH, N…\n",
      "$ south    \u001b[3m\u001b[90m<fct>\u001b[39m\u001b[23m NS, NS, NS, NS, NS, NS, NS, NS, NS, NS, NS, NS, NS, NS, NS, N…\n",
      "$ married  \u001b[3m\u001b[90m<fct>\u001b[39m\u001b[23m Married, Married, Single, Married, Married, Married, Married,…\n",
      "$ exper    \u001b[3m\u001b[90m<int>\u001b[39m\u001b[23m 27, 20, 4, 29, 40, 27, 5, 22, 42, 14, 18, 3, 4, 14, 35, 0, 7,…\n",
      "$ union    \u001b[3m\u001b[90m<fct>\u001b[39m\u001b[23m Not, Not, Not, Not, Union, Not, Union, Not, Not, Not, Not, No…\n",
      "$ age      \u001b[3m\u001b[90m<int>\u001b[39m\u001b[23m 43, 38, 22, 47, 58, 49, 23, 42, 56, 32, 41, 26, 24, 34, 53, 2…\n",
      "$ sector   \u001b[3m\u001b[90m<fct>\u001b[39m\u001b[23m const, sales, sales, clerical, const, clerical, service, sale…\n"
     ]
    }
   ],
   "source": [
    "glimpse(cps)"
   ]
  },
  {
   "attachments": {},
   "cell_type": "markdown",
   "metadata": {},
   "source": [
    "::: {.callout-tip}\n",
    "엑셀 스프레드시트처럼 보는 방법은  \n",
    "Environment 패널에 보이는 cps 데이터셋 맨 끝에 네모난 마크를 클릭하거나,  \n",
    "`view(cps)`\n",
    ":::"
   ]
  },
  {
   "attachments": {},
   "cell_type": "markdown",
   "metadata": {},
   "source": [
    "변수들에 대한 통계치 요약 `summary()`"
   ]
  },
  {
   "cell_type": "code",
   "execution_count": 8,
   "metadata": {
    "vscode": {
     "languageId": "r"
    }
   },
   "outputs": [
    {
     "data": {
      "text/plain": [
       "      wage             educ       race     sex     hispanic   south   \n",
       " Min.   : 1.000   Min.   : 2.00   NW: 67   F:245   Hisp: 27   NS:378  \n",
       " 1st Qu.: 5.250   1st Qu.:12.00   W :467   M:289   NH  :507   S :156  \n",
       " Median : 7.780   Median :12.00                                       \n",
       " Mean   : 9.024   Mean   :13.02                                       \n",
       " 3rd Qu.:11.250   3rd Qu.:15.00                                       \n",
       " Max.   :44.500   Max.   :18.00                                       \n",
       "                                                                      \n",
       "    married        exper         union          age             sector   \n",
       " Married:350   Min.   : 0.00   Not  :438   Min.   :18.00   prof    :105  \n",
       " Single :184   1st Qu.: 8.00   Union: 96   1st Qu.:28.00   clerical: 97  \n",
       "               Median :15.00               Median :35.00   service : 83  \n",
       "               Mean   :17.82               Mean   :36.83   manuf   : 68  \n",
       "               3rd Qu.:26.00               3rd Qu.:44.00   other   : 68  \n",
       "               Max.   :55.00               Max.   :64.00   manag   : 55  \n",
       "                                                           (Other) : 58  "
      ]
     },
     "metadata": {},
     "output_type": "display_data"
    }
   ],
   "source": [
    "summary(cps)"
   ]
  },
  {
   "attachments": {},
   "cell_type": "markdown",
   "metadata": {},
   "source": [
    "카테고리별 개수를 세주는 `count()`  \n",
    "Number(수)에 대해서도 적용 가능: ex. educ 수준 2, 3, ... 18 각각에 대해서"
   ]
  },
  {
   "cell_type": "code",
   "execution_count": 9,
   "metadata": {
    "vscode": {
     "languageId": "r"
    }
   },
   "outputs": [
    {
     "name": "stdout",
     "output_type": "stream",
     "text": [
      "\u001b[90m# A tibble: 8 × 2\u001b[39m\n",
      "  sector       n\n",
      "  \u001b[3m\u001b[90m<fct>\u001b[39m\u001b[23m    \u001b[3m\u001b[90m<int>\u001b[39m\u001b[23m\n",
      "\u001b[90m1\u001b[39m clerical    97\n",
      "\u001b[90m2\u001b[39m const       20\n",
      "\u001b[90m3\u001b[39m manag       55\n",
      "\u001b[90m4\u001b[39m manuf       68\n",
      "\u001b[90m5\u001b[39m other       68\n",
      "\u001b[90m6\u001b[39m prof       105\n",
      "\u001b[90m7\u001b[39m sales       38\n",
      "\u001b[90m8\u001b[39m service     83\n"
     ]
    }
   ],
   "source": [
    "cps |>  # pipe operator: alt + . (option + .)\n",
    "    count(sector) |>\n",
    "    print() # 생략해도 됨"
   ]
  },
  {
   "cell_type": "code",
   "execution_count": 10,
   "metadata": {
    "vscode": {
     "languageId": "r"
    }
   },
   "outputs": [
    {
     "name": "stdout",
     "output_type": "stream",
     "text": [
      "\u001b[90m# A tibble: 4 × 3\u001b[39m\n",
      "  sex   married     n\n",
      "  \u001b[3m\u001b[90m<fct>\u001b[39m\u001b[23m \u001b[3m\u001b[90m<fct>\u001b[39m\u001b[23m   \u001b[3m\u001b[90m<int>\u001b[39m\u001b[23m\n",
      "\u001b[90m1\u001b[39m F     Married   162\n",
      "\u001b[90m2\u001b[39m F     Single     83\n",
      "\u001b[90m3\u001b[39m M     Married   188\n",
      "\u001b[90m4\u001b[39m M     Single    101\n"
     ]
    }
   ],
   "source": [
    "cps |>\n",
    "    count(sex, married) |>\n",
    "    print()"
   ]
  },
  {
   "attachments": {},
   "cell_type": "markdown",
   "metadata": {},
   "source": [
    "::: {.callout-note}\n",
    "# **Pipe operator**  \n",
    "|>  또는  %>%  ('then'의 의미로...)\n",
    "```r\n",
    "x |> f(y) # f(x, y),\n",
    "x |> f(y) |> g(z) # g(f(x, y), z)\n",
    "```\n",
    "`summary(cps)` 는 다음과 같음\n",
    "```r\n",
    "cps |>\n",
    "    summary()\n",
    "```\n",
    ":::"
   ]
  },
  {
   "attachments": {},
   "cell_type": "markdown",
   "metadata": {},
   "source": [
    "## Rows\n",
    "행에 적용되는 함수들  \n",
    "`filter()`, `arrange()`, `distinct()`"
   ]
  },
  {
   "attachments": {},
   "cell_type": "markdown",
   "metadata": {},
   "source": [
    "### `filter()`\n",
    "조건에 맞는 행을 선택\n",
    "\n",
    "> Conditional operators:  \n",
    ">   `>`, `>=`, `<`, `<=`, \n",
    ">   `==` (equal to), `!=` (not equal to)  \n",
    ">   `&` (and)\n",
    ">  `|` (or)  \n",
    ">  `!` (not)  \n",
    "> `%in%` (includes)"
   ]
  },
  {
   "cell_type": "code",
   "execution_count": 26,
   "metadata": {
    "vscode": {
     "languageId": "r"
    }
   },
   "outputs": [
    {
     "name": "stdout",
     "output_type": "stream",
     "text": [
      "\u001b[90m# A tibble: 184 × 11\u001b[39m\n",
      "   wage  educ race  sex   hispanic south married exper union   age sector  \n",
      "  \u001b[3m\u001b[90m<dbl>\u001b[39m\u001b[23m \u001b[3m\u001b[90m<int>\u001b[39m\u001b[23m \u001b[3m\u001b[90m<fct>\u001b[39m\u001b[23m \u001b[3m\u001b[90m<fct>\u001b[39m\u001b[23m \u001b[3m\u001b[90m<fct>\u001b[39m\u001b[23m    \u001b[3m\u001b[90m<fct>\u001b[39m\u001b[23m \u001b[3m\u001b[90m<fct>\u001b[39m\u001b[23m   \u001b[3m\u001b[90m<int>\u001b[39m\u001b[23m \u001b[3m\u001b[90m<fct>\u001b[39m\u001b[23m \u001b[3m\u001b[90m<int>\u001b[39m\u001b[23m \u001b[3m\u001b[90m<fct>\u001b[39m\u001b[23m   \n",
      "\u001b[90m1\u001b[39m  10.5    12 W     F     NH       NS    Married    29 Not      47 clerical\n",
      "\u001b[90m2\u001b[39m  15      12 W     M     NH       NS    Married    40 Union    58 const   \n",
      "\u001b[90m3\u001b[39m  15      14 W     M     NH       NS    Single     22 Not      42 sales   \n",
      "\u001b[90m4\u001b[39m  11       8 W     M     NH       NS    Married    42 Not      56 manuf   \n",
      "\u001b[90m5\u001b[39m  25.0    17 W     M     Hisp     NS    Married    18 Not      41 prof    \n",
      "\u001b[90m6\u001b[39m  20.4    17 W     M     NH       NS    Single      3 Not      26 prof    \n",
      "\u001b[90m# … with 178 more rows\u001b[39m\n"
     ]
    }
   ],
   "source": [
    "# 임금(wage)가 10이상인 사람들\n",
    "cps |>\n",
    "    filter(wage >= 10) |>\n",
    "    print()"
   ]
  },
  {
   "cell_type": "code",
   "execution_count": 23,
   "metadata": {
    "vscode": {
     "languageId": "r"
    }
   },
   "outputs": [
    {
     "name": "stdout",
     "output_type": "stream",
     "text": [
      "\u001b[90m# A tibble: 55 × 11\u001b[39m\n",
      "   wage  educ race  sex   hispanic south married exper union   age sector  \n",
      "  \u001b[3m\u001b[90m<dbl>\u001b[39m\u001b[23m \u001b[3m\u001b[90m<int>\u001b[39m\u001b[23m \u001b[3m\u001b[90m<fct>\u001b[39m\u001b[23m \u001b[3m\u001b[90m<fct>\u001b[39m\u001b[23m \u001b[3m\u001b[90m<fct>\u001b[39m\u001b[23m    \u001b[3m\u001b[90m<fct>\u001b[39m\u001b[23m \u001b[3m\u001b[90m<fct>\u001b[39m\u001b[23m   \u001b[3m\u001b[90m<int>\u001b[39m\u001b[23m \u001b[3m\u001b[90m<fct>\u001b[39m\u001b[23m \u001b[3m\u001b[90m<int>\u001b[39m\u001b[23m \u001b[3m\u001b[90m<fct>\u001b[39m\u001b[23m   \n",
      "\u001b[90m1\u001b[39m  10.5    12 W     F     NH       NS    Married    29 Not      47 clerical\n",
      "\u001b[90m2\u001b[39m  11.2    17 NW    F     NH       NS    Married    32 Not      55 clerical\n",
      "\u001b[90m3\u001b[39m  25.0    17 W     F     NH       NS    Single      5 Not      28 prof    \n",
      "\u001b[90m4\u001b[39m  12.6    17 W     F     NH       NS    Married    13 Not      36 manag   \n",
      "\u001b[90m5\u001b[39m  11.7    16 W     F     NH       NS    Single     42 Not      64 clerical\n",
      "\u001b[90m6\u001b[39m  12.5    15 W     F     NH       NS    Married     6 Not      27 clerical\n",
      "\u001b[90m# … with 49 more rows\u001b[39m\n"
     ]
    }
   ],
   "source": [
    "# 임금(wage)가 10이상이고 여성(F)들\n",
    "cps |>\n",
    "    filter(wage >= 10 & sex == \"F\") |>\n",
    "    print()"
   ]
  },
  {
   "cell_type": "code",
   "execution_count": 24,
   "metadata": {
    "vscode": {
     "languageId": "r"
    }
   },
   "outputs": [
    {
     "name": "stdout",
     "output_type": "stream",
     "text": [
      "\u001b[90m# A tibble: 160 × 11\u001b[39m\n",
      "   wage  educ race  sex   hispanic south married exper union   age sector\n",
      "  \u001b[3m\u001b[90m<dbl>\u001b[39m\u001b[23m \u001b[3m\u001b[90m<int>\u001b[39m\u001b[23m \u001b[3m\u001b[90m<fct>\u001b[39m\u001b[23m \u001b[3m\u001b[90m<fct>\u001b[39m\u001b[23m \u001b[3m\u001b[90m<fct>\u001b[39m\u001b[23m    \u001b[3m\u001b[90m<fct>\u001b[39m\u001b[23m \u001b[3m\u001b[90m<fct>\u001b[39m\u001b[23m   \u001b[3m\u001b[90m<int>\u001b[39m\u001b[23m \u001b[3m\u001b[90m<fct>\u001b[39m\u001b[23m \u001b[3m\u001b[90m<int>\u001b[39m\u001b[23m \u001b[3m\u001b[90m<fct>\u001b[39m\u001b[23m \n",
      "\u001b[90m1\u001b[39m  25.0    17 W     M     Hisp     NS    Married    18 Not      41 prof  \n",
      "\u001b[90m2\u001b[39m  20.4    17 W     M     NH       NS    Single      3 Not      26 prof  \n",
      "\u001b[90m3\u001b[39m  10      16 W     M     Hisp     NS    Married     7 Union    29 manag \n",
      "\u001b[90m4\u001b[39m  15      16 NW    M     NH       NS    Married    26 Union    48 manag \n",
      "\u001b[90m5\u001b[39m  25.0    17 W     F     NH       NS    Single      5 Not      28 prof  \n",
      "\u001b[90m6\u001b[39m  10      14 W     M     NH       NS    Married    22 Not      42 prof  \n",
      "\u001b[90m# … with 154 more rows\u001b[39m\n"
     ]
    }
   ],
   "source": [
    "# 간부급(management)과 전문직(professional)에 종사하는 사람들\n",
    "cps |>\n",
    "    filter(sector == \"manag\" | sector == \"prof\") |>\n",
    "    print()"
   ]
  },
  {
   "attachments": {},
   "cell_type": "markdown",
   "metadata": {},
   "source": [
    "다음과 같이 편리하게 `%in%`을 이용하여 여러 항목을 포함하는, 즉 `|`와 `==`를 합친 조건문을 생성  \n",
    "즉, include인지 판별"
   ]
  },
  {
   "cell_type": "code",
   "execution_count": 25,
   "metadata": {
    "vscode": {
     "languageId": "r"
    }
   },
   "outputs": [
    {
     "name": "stdout",
     "output_type": "stream",
     "text": [
      "\u001b[90m# A tibble: 160 × 11\u001b[39m\n",
      "   wage  educ race  sex   hispanic south married exper union   age sector\n",
      "  \u001b[3m\u001b[90m<dbl>\u001b[39m\u001b[23m \u001b[3m\u001b[90m<int>\u001b[39m\u001b[23m \u001b[3m\u001b[90m<fct>\u001b[39m\u001b[23m \u001b[3m\u001b[90m<fct>\u001b[39m\u001b[23m \u001b[3m\u001b[90m<fct>\u001b[39m\u001b[23m    \u001b[3m\u001b[90m<fct>\u001b[39m\u001b[23m \u001b[3m\u001b[90m<fct>\u001b[39m\u001b[23m   \u001b[3m\u001b[90m<int>\u001b[39m\u001b[23m \u001b[3m\u001b[90m<fct>\u001b[39m\u001b[23m \u001b[3m\u001b[90m<int>\u001b[39m\u001b[23m \u001b[3m\u001b[90m<fct>\u001b[39m\u001b[23m \n",
      "\u001b[90m1\u001b[39m  25.0    17 W     M     Hisp     NS    Married    18 Not      41 prof  \n",
      "\u001b[90m2\u001b[39m  20.4    17 W     M     NH       NS    Single      3 Not      26 prof  \n",
      "\u001b[90m3\u001b[39m  10      16 W     M     Hisp     NS    Married     7 Union    29 manag \n",
      "\u001b[90m4\u001b[39m  15      16 NW    M     NH       NS    Married    26 Union    48 manag \n",
      "\u001b[90m5\u001b[39m  25.0    17 W     F     NH       NS    Single      5 Not      28 prof  \n",
      "\u001b[90m6\u001b[39m  10      14 W     M     NH       NS    Married    22 Not      42 prof  \n",
      "\u001b[90m# … with 154 more rows\u001b[39m\n"
     ]
    }
   ],
   "source": [
    "# A shorter way to select sectors for management or professional\n",
    "cps |>\n",
    "    filter(sector %in% c(\"manag\", \"prof\")) |>\n",
    "    print()"
   ]
  },
  {
   "attachments": {},
   "cell_type": "markdown",
   "metadata": {},
   "source": [
    "::: {.callout-important}\n",
    "`filter()`로 얻은 데이터 프레임은 원래 데이터 프레임을 수정하는 것이 아니므로 계속 사용하려면 저장해야 함  \n",
    "이후 모든 함수들에 대해서도 마찬가지  \n",
    "```r\n",
    "prestige <- cps |>\n",
    "    filter(sector %in% c(\"manag\", \"prof\"))\n",
    "```\n",
    ":::"
   ]
  },
  {
   "attachments": {},
   "cell_type": "markdown",
   "metadata": {},
   "source": [
    "::: {.callout-tip}\n",
    "잦은 실수들\n",
    "\n",
    "```r\n",
    "cps |>\n",
    "    filter(sex = \"F\") # \"==\" vs. \"=\"\n",
    "cps |>\n",
    "    filter(sector == \"manage\" | \"prof\") # | 전후 모두 완결된 조건문 필요\n",
    "```\n",
    ":::"
   ]
  },
  {
   "attachments": {},
   "cell_type": "markdown",
   "metadata": {},
   "source": [
    "### `arrange()`\n",
    "Column의 값을 기준으로 row를 정렬"
   ]
  },
  {
   "cell_type": "code",
   "execution_count": 30,
   "metadata": {
    "vscode": {
     "languageId": "r"
    }
   },
   "outputs": [
    {
     "name": "stdout",
     "output_type": "stream",
     "text": [
      "\u001b[90m# A tibble: 534 × 11\u001b[39m\n",
      "    wage  educ race  sex   hispanic south married exper union   age sector \n",
      "   \u001b[3m\u001b[90m<dbl>\u001b[39m\u001b[23m \u001b[3m\u001b[90m<int>\u001b[39m\u001b[23m \u001b[3m\u001b[90m<fct>\u001b[39m\u001b[23m \u001b[3m\u001b[90m<fct>\u001b[39m\u001b[23m \u001b[3m\u001b[90m<fct>\u001b[39m\u001b[23m    \u001b[3m\u001b[90m<fct>\u001b[39m\u001b[23m \u001b[3m\u001b[90m<fct>\u001b[39m\u001b[23m   \u001b[3m\u001b[90m<int>\u001b[39m\u001b[23m \u001b[3m\u001b[90m<fct>\u001b[39m\u001b[23m \u001b[3m\u001b[90m<int>\u001b[39m\u001b[23m \u001b[3m\u001b[90m<fct>\u001b[39m\u001b[23m  \n",
      "\u001b[90m 1\u001b[39m  3.75     2 W     M     Hisp     NS    Single     16 Not      24 service\n",
      "\u001b[90m 2\u001b[39m  7        3 W     M     Hisp     S     Married    55 Not      64 manuf  \n",
      "\u001b[90m 3\u001b[39m  6        4 W     M     NH       NS    Married    54 Not      64 service\n",
      "\u001b[90m 4\u001b[39m 14        5 W     M     NH       S     Married    44 Not      55 const  \n",
      "\u001b[90m 5\u001b[39m  3        6 W     F     Hisp     NS    Married    43 Union    55 manuf  \n",
      "\u001b[90m 6\u001b[39m  4.62     6 NW    F     NH       S     Single     33 Not      45 manuf  \n",
      "\u001b[90m 7\u001b[39m  5.75     6 W     M     NH       S     Married    45 Not      57 manuf  \n",
      "\u001b[90m 8\u001b[39m  3.35     7 W     M     NH       S     Married    43 Not      56 manuf  \n",
      "\u001b[90m 9\u001b[39m  4.5      7 W     M     Hisp     S     Married    14 Not      27 service\n",
      "\u001b[90m10\u001b[39m  6        7 W     F     NH       S     Married    15 Not      28 manuf  \n",
      "\u001b[90m# … with 524 more rows\u001b[39m\n"
     ]
    }
   ],
   "source": [
    "# 교육정도(educ)와 임금(wage)에 따라 오름차순으로 정렬\n",
    "cps |>\n",
    "    arrange(educ, wage) |>\n",
    "    print(n = 10)"
   ]
  },
  {
   "attachments": {},
   "cell_type": "markdown",
   "metadata": {},
   "source": [
    "`desc()`을 이용하면 내림차순으로 정렬"
   ]
  },
  {
   "cell_type": "code",
   "execution_count": 32,
   "metadata": {
    "vscode": {
     "languageId": "r"
    }
   },
   "outputs": [
    {
     "name": "stdout",
     "output_type": "stream",
     "text": [
      "\u001b[90m# A tibble: 534 × 11\u001b[39m\n",
      "    wage  educ race  sex   hispanic south married exper union   age sector\n",
      "   \u001b[3m\u001b[90m<dbl>\u001b[39m\u001b[23m \u001b[3m\u001b[90m<int>\u001b[39m\u001b[23m \u001b[3m\u001b[90m<fct>\u001b[39m\u001b[23m \u001b[3m\u001b[90m<fct>\u001b[39m\u001b[23m \u001b[3m\u001b[90m<fct>\u001b[39m\u001b[23m    \u001b[3m\u001b[90m<fct>\u001b[39m\u001b[23m \u001b[3m\u001b[90m<fct>\u001b[39m\u001b[23m   \u001b[3m\u001b[90m<int>\u001b[39m\u001b[23m \u001b[3m\u001b[90m<fct>\u001b[39m\u001b[23m \u001b[3m\u001b[90m<int>\u001b[39m\u001b[23m \u001b[3m\u001b[90m<fct>\u001b[39m\u001b[23m \n",
      "\u001b[90m 1\u001b[39m 15       18 W     M     NH       NS    Married    12 Not      36 prof  \n",
      "\u001b[90m 2\u001b[39m 14.0     18 W     F     NH       NS    Married    14 Not      38 manag \n",
      "\u001b[90m 3\u001b[39m 13.5     18 W     M     NH       NS    Married    14 Union    38 prof  \n",
      "\u001b[90m 4\u001b[39m 20       18 W     F     NH       NS    Married    19 Not      43 manag \n",
      "\u001b[90m 5\u001b[39m  7       18 W     M     NH       NS    Married    33 Not      57 prof  \n",
      "\u001b[90m 6\u001b[39m 11.2     18 W     M     NH       NS    Married    19 Not      43 prof  \n",
      "\u001b[90m 7\u001b[39m  5.71    18 W     M     NH       NS    Married     3 Not      27 prof  \n",
      "\u001b[90m 8\u001b[39m 18       18 W     M     NH       NS    Married    15 Not      39 prof  \n",
      "\u001b[90m 9\u001b[39m 19       18 W     M     NH       NS    Single     13 Not      37 manag \n",
      "\u001b[90m10\u001b[39m 22.8     18 W     F     NH       NS    Single     37 Not      61 prof  \n",
      "\u001b[90m# … with 524 more rows\u001b[39m\n"
     ]
    }
   ],
   "source": [
    "# educ을 내림차순으로 정렬\n",
    "cps |>\n",
    "    arrange(desc(educ)) |>\n",
    "    print(n = 10)"
   ]
  },
  {
   "attachments": {},
   "cell_type": "markdown",
   "metadata": {},
   "source": [
    "`arrange()`와 `filter()`를 함께 사용하여 좀 더 복잡한 문제를 해결할 수 있음"
   ]
  },
  {
   "cell_type": "code",
   "execution_count": 35,
   "metadata": {
    "vscode": {
     "languageId": "r"
    }
   },
   "outputs": [
    {
     "name": "stdout",
     "output_type": "stream",
     "text": [
      "\u001b[90m# A tibble: 105 × 11\u001b[39m\n",
      "   wage  educ race  sex   hispanic south married exper union   age sector\n",
      "  \u001b[3m\u001b[90m<dbl>\u001b[39m\u001b[23m \u001b[3m\u001b[90m<int>\u001b[39m\u001b[23m \u001b[3m\u001b[90m<fct>\u001b[39m\u001b[23m \u001b[3m\u001b[90m<fct>\u001b[39m\u001b[23m \u001b[3m\u001b[90m<fct>\u001b[39m\u001b[23m    \u001b[3m\u001b[90m<fct>\u001b[39m\u001b[23m \u001b[3m\u001b[90m<fct>\u001b[39m\u001b[23m   \u001b[3m\u001b[90m<int>\u001b[39m\u001b[23m \u001b[3m\u001b[90m<fct>\u001b[39m\u001b[23m \u001b[3m\u001b[90m<int>\u001b[39m\u001b[23m \u001b[3m\u001b[90m<fct>\u001b[39m\u001b[23m \n",
      "\u001b[90m1\u001b[39m  25.0    17 W     M     Hisp     NS    Married    18 Not      41 prof  \n",
      "\u001b[90m2\u001b[39m  25.0    17 W     F     NH       NS    Single      5 Not      28 prof  \n",
      "\u001b[90m3\u001b[39m  25.0    17 W     M     NH       NS    Married    31 Not      54 prof  \n",
      "\u001b[90m4\u001b[39m  25.0    16 W     F     NH       S     Single      5 Not      27 prof  \n",
      "\u001b[90m5\u001b[39m  23.2    17 NW    F     NH       NS    Married    25 Union    48 prof  \n",
      "\u001b[90m6\u001b[39m  22.8    18 W     F     NH       NS    Single     37 Not      61 prof  \n",
      "\u001b[90m# … with 99 more rows\u001b[39m\n"
     ]
    }
   ],
   "source": [
    "# 높은 지위의 섹터에서 일하는 사람들 중 임금이 상위에 있는 사람들\n",
    "cps |>\n",
    "    filter(sector == \"manage\" | sector == \"prof\") |>\n",
    "    arrange(desc(wage)) |>\n",
    "    print()"
   ]
  },
  {
   "attachments": {},
   "cell_type": "markdown",
   "metadata": {},
   "source": [
    "### `distinct()`\n",
    "유티크한 조합들을 리스트"
   ]
  },
  {
   "cell_type": "code",
   "execution_count": 37,
   "metadata": {
    "vscode": {
     "languageId": "r"
    }
   },
   "outputs": [
    {
     "name": "stdout",
     "output_type": "stream",
     "text": [
      "\u001b[90m# A tibble: 15 × 2\u001b[39m\n",
      "   sector   sex  \n",
      "   \u001b[3m\u001b[90m<fct>\u001b[39m\u001b[23m    \u001b[3m\u001b[90m<fct>\u001b[39m\u001b[23m\n",
      "\u001b[90m 1\u001b[39m const    M    \n",
      "\u001b[90m 2\u001b[39m sales    M    \n",
      "\u001b[90m 3\u001b[39m sales    F    \n",
      "\u001b[90m 4\u001b[39m clerical F    \n",
      "\u001b[90m 5\u001b[39m service  F    \n",
      "\u001b[90m 6\u001b[39m manuf    M    \n",
      "\u001b[90m 7\u001b[39m prof     M    \n",
      "\u001b[90m 8\u001b[39m service  M    \n",
      "\u001b[90m 9\u001b[39m other    M    \n",
      "\u001b[90m10\u001b[39m clerical M    \n",
      "\u001b[90m11\u001b[39m manag    M    \n",
      "\u001b[90m12\u001b[39m prof     F    \n",
      "\u001b[90m13\u001b[39m manag    F    \n",
      "\u001b[90m14\u001b[39m manuf    F    \n",
      "\u001b[90m15\u001b[39m other    F    \n"
     ]
    }
   ],
   "source": [
    "cps |>\n",
    "    distinct(sector, sex) |>\n",
    "    print()"
   ]
  },
  {
   "attachments": {},
   "cell_type": "markdown",
   "metadata": {},
   "source": [
    "## Columns\n",
    "열에 적용되는 함수들  \n",
    "`mutate()`, `select()`, `rename()`"
   ]
  },
  {
   "attachments": {},
   "cell_type": "markdown",
   "metadata": {},
   "source": [
    "### `mutate()`\n",
    "Columns/변수들로부터 값을 계산하여 새로운 변수를 만듦"
   ]
  },
  {
   "cell_type": "code",
   "execution_count": 41,
   "metadata": {
    "vscode": {
     "languageId": "r"
    }
   },
   "outputs": [
    {
     "name": "stdout",
     "output_type": "stream",
     "text": [
      "\u001b[90m# A tibble: 244 × 7\u001b[39m\n",
      "  total_bill   tip sex    smoker day   time    size\n",
      "       \u001b[3m\u001b[90m<dbl>\u001b[39m\u001b[23m \u001b[3m\u001b[90m<dbl>\u001b[39m\u001b[23m \u001b[3m\u001b[90m<fct>\u001b[39m\u001b[23m  \u001b[3m\u001b[90m<fct>\u001b[39m\u001b[23m  \u001b[3m\u001b[90m<fct>\u001b[39m\u001b[23m \u001b[3m\u001b[90m<fct>\u001b[39m\u001b[23m  \u001b[3m\u001b[90m<int>\u001b[39m\u001b[23m\n",
      "\u001b[90m1\u001b[39m       17.0  1.01 Female No     Sun   Dinner     2\n",
      "\u001b[90m2\u001b[39m       10.3  1.66 Male   No     Sun   Dinner     3\n",
      "\u001b[90m3\u001b[39m       21.0  3.5  Male   No     Sun   Dinner     3\n",
      "\u001b[90m4\u001b[39m       23.7  3.31 Male   No     Sun   Dinner     2\n",
      "\u001b[90m5\u001b[39m       24.6  3.61 Female No     Sun   Dinner     4\n",
      "\u001b[90m6\u001b[39m       25.3  4.71 Male   No     Sun   Dinner     4\n",
      "\u001b[90m# … with 238 more rows\u001b[39m\n"
     ]
    }
   ],
   "source": [
    "tips <- as_tibble(reshape::tips) # reshpae 패키지 안에 tips 데이터셋\n",
    "tips |> print()"
   ]
  },
  {
   "cell_type": "code",
   "execution_count": 46,
   "metadata": {
    "vscode": {
     "languageId": "r"
    }
   },
   "outputs": [
    {
     "name": "stdout",
     "output_type": "stream",
     "text": [
      "\u001b[90m# A tibble: 244 × 9\u001b[39m\n",
      "  total_bill   tip sex    smoker day   time    size tip_pct tip_pct_per\n",
      "       \u001b[3m\u001b[90m<dbl>\u001b[39m\u001b[23m \u001b[3m\u001b[90m<dbl>\u001b[39m\u001b[23m \u001b[3m\u001b[90m<fct>\u001b[39m\u001b[23m  \u001b[3m\u001b[90m<fct>\u001b[39m\u001b[23m  \u001b[3m\u001b[90m<fct>\u001b[39m\u001b[23m \u001b[3m\u001b[90m<fct>\u001b[39m\u001b[23m  \u001b[3m\u001b[90m<int>\u001b[39m\u001b[23m   \u001b[3m\u001b[90m<dbl>\u001b[39m\u001b[23m       \u001b[3m\u001b[90m<dbl>\u001b[39m\u001b[23m\n",
      "\u001b[90m1\u001b[39m       17.0  1.01 Female No     Sun   Dinner     2    5.94        2.97\n",
      "\u001b[90m2\u001b[39m       10.3  1.66 Male   No     Sun   Dinner     3   16.1         5.35\n",
      "\u001b[90m3\u001b[39m       21.0  3.5  Male   No     Sun   Dinner     3   16.7         5.55\n",
      "\u001b[90m4\u001b[39m       23.7  3.31 Male   No     Sun   Dinner     2   14.0         6.99\n",
      "\u001b[90m5\u001b[39m       24.6  3.61 Female No     Sun   Dinner     4   14.7         3.67\n",
      "\u001b[90m6\u001b[39m       25.3  4.71 Male   No     Sun   Dinner     4   18.6         4.66\n",
      "\u001b[90m# … with 238 more rows\u001b[39m\n"
     ]
    }
   ],
   "source": [
    "tips |>\n",
    "    mutate(\n",
    "        tip_pct = tip / total_bill * 100,\n",
    "        tip_pct_per = tip_pct / size\n",
    "    ) |>\n",
    "    print()"
   ]
  },
  {
   "attachments": {},
   "cell_type": "markdown",
   "metadata": {},
   "source": [
    "### `select()`\n",
    "Columns/변수를 선택"
   ]
  },
  {
   "cell_type": "code",
   "execution_count": 48,
   "metadata": {
    "vscode": {
     "languageId": "r"
    }
   },
   "outputs": [
    {
     "name": "stdout",
     "output_type": "stream",
     "text": [
      "\u001b[90m# A tibble: 244 × 4\u001b[39m\n",
      "  total_bill   tip day   time  \n",
      "       \u001b[3m\u001b[90m<dbl>\u001b[39m\u001b[23m \u001b[3m\u001b[90m<dbl>\u001b[39m\u001b[23m \u001b[3m\u001b[90m<fct>\u001b[39m\u001b[23m \u001b[3m\u001b[90m<fct>\u001b[39m\u001b[23m \n",
      "\u001b[90m1\u001b[39m       17.0  1.01 Sun   Dinner\n",
      "\u001b[90m2\u001b[39m       10.3  1.66 Sun   Dinner\n",
      "\u001b[90m3\u001b[39m       21.0  3.5  Sun   Dinner\n",
      "\u001b[90m4\u001b[39m       23.7  3.31 Sun   Dinner\n",
      "\u001b[90m5\u001b[39m       24.6  3.61 Sun   Dinner\n",
      "\u001b[90m6\u001b[39m       25.3  4.71 Sun   Dinner\n",
      "\u001b[90m# … with 238 more rows\u001b[39m\n"
     ]
    }
   ],
   "source": [
    "tips |>\n",
    "    select(total_bill, tip, day, time) |>\n",
    "    print()"
   ]
  },
  {
   "cell_type": "code",
   "execution_count": 75,
   "metadata": {
    "vscode": {
     "languageId": "r"
    }
   },
   "outputs": [
    {
     "name": "stdout",
     "output_type": "stream",
     "text": [
      "\u001b[90m# A tibble: 244 × 4\u001b[39m\n",
      "    tip sex    smoker  size\n",
      "  \u001b[3m\u001b[90m<dbl>\u001b[39m\u001b[23m \u001b[3m\u001b[90m<fct>\u001b[39m\u001b[23m  \u001b[3m\u001b[90m<fct>\u001b[39m\u001b[23m  \u001b[3m\u001b[90m<int>\u001b[39m\u001b[23m\n",
      "\u001b[90m1\u001b[39m  1.01 Female No         2\n",
      "\u001b[90m2\u001b[39m  1.66 Male   No         3\n",
      "\u001b[90m3\u001b[39m  3.5  Male   No         3\n",
      "\u001b[90m4\u001b[39m  3.31 Male   No         2\n",
      "\u001b[90m5\u001b[39m  3.61 Female No         4\n",
      "\u001b[90m6\u001b[39m  4.71 Male   No         4\n",
      "\u001b[90m# … with 238 more rows\u001b[39m\n"
     ]
    }
   ],
   "source": [
    "# tip에서 smoker까지, 그리고 size columns 선택\n",
    "tips |>\n",
    "    select(tip:smoker, size) |>  # select(2:4, 7)처럼 number로 선택가능\n",
    "    print()"
   ]
  },
  {
   "cell_type": "code",
   "execution_count": 53,
   "metadata": {
    "vscode": {
     "languageId": "r"
    }
   },
   "outputs": [
    {
     "name": "stdout",
     "output_type": "stream",
     "text": [
      "\u001b[90m# A tibble: 244 × 4\u001b[39m\n",
      "  total_bill   tip time    size\n",
      "       \u001b[3m\u001b[90m<dbl>\u001b[39m\u001b[23m \u001b[3m\u001b[90m<dbl>\u001b[39m\u001b[23m \u001b[3m\u001b[90m<fct>\u001b[39m\u001b[23m  \u001b[3m\u001b[90m<int>\u001b[39m\u001b[23m\n",
      "\u001b[90m1\u001b[39m       17.0  1.01 Dinner     2\n",
      "\u001b[90m2\u001b[39m       10.3  1.66 Dinner     3\n",
      "\u001b[90m3\u001b[39m       21.0  3.5  Dinner     3\n",
      "\u001b[90m4\u001b[39m       23.7  3.31 Dinner     2\n",
      "\u001b[90m5\u001b[39m       24.6  3.61 Dinner     4\n",
      "\u001b[90m6\u001b[39m       25.3  4.71 Dinner     4\n",
      "\u001b[90m# … with 238 more rows\u001b[39m\n"
     ]
    }
   ],
   "source": [
    "# sex에서 day까지 columns은 제외하고\n",
    "tips |>\n",
    "    select(!sex:day) |> # !: not\n",
    "    print()"
   ]
  },
  {
   "cell_type": "code",
   "execution_count": 56,
   "metadata": {
    "vscode": {
     "languageId": "r"
    }
   },
   "outputs": [
    {
     "name": "stdout",
     "output_type": "stream",
     "text": [
      "\u001b[90m# A tibble: 244 × 4\u001b[39m\n",
      "  sex    smoker day   time  \n",
      "  \u001b[3m\u001b[90m<fct>\u001b[39m\u001b[23m  \u001b[3m\u001b[90m<fct>\u001b[39m\u001b[23m  \u001b[3m\u001b[90m<fct>\u001b[39m\u001b[23m \u001b[3m\u001b[90m<fct>\u001b[39m\u001b[23m \n",
      "\u001b[90m1\u001b[39m Female No     Sun   Dinner\n",
      "\u001b[90m2\u001b[39m Male   No     Sun   Dinner\n",
      "\u001b[90m3\u001b[39m Male   No     Sun   Dinner\n",
      "\u001b[90m4\u001b[39m Male   No     Sun   Dinner\n",
      "\u001b[90m5\u001b[39m Female No     Sun   Dinner\n",
      "\u001b[90m6\u001b[39m Male   No     Sun   Dinner\n",
      "\u001b[90m# … with 238 more rows\u001b[39m\n"
     ]
    }
   ],
   "source": [
    "# factor 타입의 변수들만 선택: 함수를 이용\n",
    "tips |>\n",
    "    select(where(is.factor)) |>  # 다른 함수들: is.numeric, is.character\n",
    "    print()"
   ]
  },
  {
   "attachments": {},
   "cell_type": "markdown",
   "metadata": {},
   "source": [
    "다양한 `select()`의 선택방법은 ?select로 help참고  \n",
    "예를 들어, `starts_with(\"abc\")`는 abc로 시작하는 열의 이름을 가진 열들"
   ]
  },
  {
   "attachments": {},
   "cell_type": "markdown",
   "metadata": {},
   "source": [
    "::: {.callout-note}\n",
    "Base R에서 행과 열의 선택과 비교하면,\n",
    "```r\n",
    "cps[2:5, c(\"wage\", \"married\")] # 2~5행과 wage, married열\n",
    "# # A tibble: 4 × 2\n",
    "#    wage married\n",
    "#   <dbl> <fct>  \n",
    "# 1   5.5 Married\n",
    "# 2   3.8 Single \n",
    "# 3  10.5 Married\n",
    "# 4  15   Married\n",
    "\n",
    "cps |> \n",
    "    select(wage, married) |> \n",
    "    slice(2:5) # 행을 선택\n",
    "```\n",
    ":::"
   ]
  },
  {
   "attachments": {},
   "cell_type": "markdown",
   "metadata": {},
   "source": [
    "### `rename()`\n",
    "Columns의 이름을 변경"
   ]
  },
  {
   "cell_type": "code",
   "execution_count": 59,
   "metadata": {
    "vscode": {
     "languageId": "r"
    }
   },
   "outputs": [
    {
     "name": "stdout",
     "output_type": "stream",
     "text": [
      "\u001b[90m# A tibble: 534 × 11\u001b[39m\n",
      "   wage education race  sex   hispanic south marital exper union   age sector  \n",
      "  \u001b[3m\u001b[90m<dbl>\u001b[39m\u001b[23m     \u001b[3m\u001b[90m<int>\u001b[39m\u001b[23m \u001b[3m\u001b[90m<fct>\u001b[39m\u001b[23m \u001b[3m\u001b[90m<fct>\u001b[39m\u001b[23m \u001b[3m\u001b[90m<fct>\u001b[39m\u001b[23m    \u001b[3m\u001b[90m<fct>\u001b[39m\u001b[23m \u001b[3m\u001b[90m<fct>\u001b[39m\u001b[23m   \u001b[3m\u001b[90m<int>\u001b[39m\u001b[23m \u001b[3m\u001b[90m<fct>\u001b[39m\u001b[23m \u001b[3m\u001b[90m<int>\u001b[39m\u001b[23m \u001b[3m\u001b[90m<fct>\u001b[39m\u001b[23m   \n",
      "\u001b[90m1\u001b[39m   9          10 W     M     NH       NS    Married    27 Not      43 const   \n",
      "\u001b[90m2\u001b[39m   5.5        12 W     M     NH       NS    Married    20 Not      38 sales   \n",
      "\u001b[90m3\u001b[39m   3.8        12 W     F     NH       NS    Single      4 Not      22 sales   \n",
      "\u001b[90m4\u001b[39m  10.5        12 W     F     NH       NS    Married    29 Not      47 clerical\n",
      "\u001b[90m5\u001b[39m  15          12 W     M     NH       NS    Married    40 Union    58 const   \n",
      "\u001b[90m6\u001b[39m   9          16 W     F     NH       NS    Married    27 Not      49 clerical\n",
      "\u001b[90m# … with 528 more rows\u001b[39m\n"
     ]
    }
   ],
   "source": [
    "cps |>\n",
    "    rename(education = educ, marital = married) |> # new = old\n",
    "    print()"
   ]
  },
  {
   "attachments": {},
   "cell_type": "markdown",
   "metadata": {},
   "source": [
    "## Groups\n",
    "분석에서는 자주 카테고리별로 데이터를 나누어 통계치를 계산하곤 하는데,  \n",
    "`group_by()`와 `summarise()`의 두 함수를 함께 사용하여 가장 자주 사용하게 됨"
   ]
  },
  {
   "attachments": {},
   "cell_type": "markdown",
   "metadata": {},
   "source": [
    "### `group_by()`\n",
    "데이터셋을 분석을 위해 의미있는 그룹으로 나눔"
   ]
  },
  {
   "attachments": {},
   "cell_type": "markdown",
   "metadata": {},
   "source": [
    "다음은 성별로 데이터셋을 나눈 것인데, 실제 데이터를 수정하는 것은 아니고, 내부적으로 grouping되어 있음.  \n",
    "맨 위 줄에 보면 `Groups:  sex [2]`로 표시되어 grouped data frame임을 명시함"
   ]
  },
  {
   "cell_type": "code",
   "execution_count": 62,
   "metadata": {
    "vscode": {
     "languageId": "r"
    }
   },
   "outputs": [
    {
     "name": "stdout",
     "output_type": "stream",
     "text": [
      "\u001b[90m# A tibble: 534 × 11\u001b[39m\n",
      "\u001b[90m# Groups:   sex [2]\u001b[39m\n",
      "   wage  educ race  sex   hispanic south married exper union   age sector  \n",
      "  \u001b[3m\u001b[90m<dbl>\u001b[39m\u001b[23m \u001b[3m\u001b[90m<int>\u001b[39m\u001b[23m \u001b[3m\u001b[90m<fct>\u001b[39m\u001b[23m \u001b[3m\u001b[90m<fct>\u001b[39m\u001b[23m \u001b[3m\u001b[90m<fct>\u001b[39m\u001b[23m    \u001b[3m\u001b[90m<fct>\u001b[39m\u001b[23m \u001b[3m\u001b[90m<fct>\u001b[39m\u001b[23m   \u001b[3m\u001b[90m<int>\u001b[39m\u001b[23m \u001b[3m\u001b[90m<fct>\u001b[39m\u001b[23m \u001b[3m\u001b[90m<int>\u001b[39m\u001b[23m \u001b[3m\u001b[90m<fct>\u001b[39m\u001b[23m   \n",
      "\u001b[90m1\u001b[39m   9      10 W     M     NH       NS    Married    27 Not      43 const   \n",
      "\u001b[90m2\u001b[39m   5.5    12 W     M     NH       NS    Married    20 Not      38 sales   \n",
      "\u001b[90m3\u001b[39m   3.8    12 W     F     NH       NS    Single      4 Not      22 sales   \n",
      "\u001b[90m4\u001b[39m  10.5    12 W     F     NH       NS    Married    29 Not      47 clerical\n",
      "\u001b[90m5\u001b[39m  15      12 W     M     NH       NS    Married    40 Union    58 const   \n",
      "\u001b[90m6\u001b[39m   9      16 W     F     NH       NS    Married    27 Not      49 clerical\n",
      "\u001b[90m# … with 528 more rows\u001b[39m\n"
     ]
    }
   ],
   "source": [
    "cps |>\n",
    "    group_by(sex) |> \n",
    "    print()"
   ]
  },
  {
   "attachments": {},
   "cell_type": "markdown",
   "metadata": {},
   "source": [
    "### `summarise()`\n",
    "`summarize()`와 동일  \n",
    "group별로 통계치를 구해 하나의 행으로 산출"
   ]
  },
  {
   "cell_type": "code",
   "execution_count": 64,
   "metadata": {
    "vscode": {
     "languageId": "r"
    }
   },
   "outputs": [
    {
     "name": "stdout",
     "output_type": "stream",
     "text": [
      "\u001b[90m# A tibble: 2 × 3\u001b[39m\n",
      "  sex   avg_wage     n\n",
      "  \u001b[3m\u001b[90m<fct>\u001b[39m\u001b[23m    \u001b[3m\u001b[90m<dbl>\u001b[39m\u001b[23m \u001b[3m\u001b[90m<int>\u001b[39m\u001b[23m\n",
      "\u001b[90m1\u001b[39m F         7.88   245\n",
      "\u001b[90m2\u001b[39m M         9.99   289\n"
     ]
    }
   ],
   "source": [
    "# 남녀별로 임금의 평균을 구함\n",
    "cps |>\n",
    "    group_by(sex) |>\n",
    "    summarise(\n",
    "        avg_wage = mean(wage, na.rm = TRUE),  # mean(): 평균, na.rm: NA를 remove할 것인가\n",
    "        n = n()  # n(): 개수\n",
    "    ) |>\n",
    "    print()"
   ]
  },
  {
   "attachments": {},
   "cell_type": "markdown",
   "metadata": {},
   "source": [
    "### `slice_`\n",
    "\n",
    "- `df |> slice_head(n = 1)` takes the first row from each group.\n",
    "- `df |> slice_tail(n = 1)` takes the last row in each group.\n",
    "- `df |> slice_min(x, n = 1)` takes the row with the smallest value of x.\n",
    "- `df |> slice_max(x, n = 1)` takes the row with the largest value of x."
   ]
  },
  {
   "cell_type": "code",
   "execution_count": 66,
   "metadata": {
    "vscode": {
     "languageId": "r"
    }
   },
   "outputs": [
    {
     "name": "stdout",
     "output_type": "stream",
     "text": [
      "\u001b[90m# A tibble: 12 × 11\u001b[39m\n",
      "\u001b[90m# Groups:   sector [8]\u001b[39m\n",
      "    wage  educ race  sex   hispanic south married exper union   age sector  \n",
      "   \u001b[3m\u001b[90m<dbl>\u001b[39m\u001b[23m \u001b[3m\u001b[90m<int>\u001b[39m\u001b[23m \u001b[3m\u001b[90m<fct>\u001b[39m\u001b[23m \u001b[3m\u001b[90m<fct>\u001b[39m\u001b[23m \u001b[3m\u001b[90m<fct>\u001b[39m\u001b[23m    \u001b[3m\u001b[90m<fct>\u001b[39m\u001b[23m \u001b[3m\u001b[90m<fct>\u001b[39m\u001b[23m   \u001b[3m\u001b[90m<int>\u001b[39m\u001b[23m \u001b[3m\u001b[90m<fct>\u001b[39m\u001b[23m \u001b[3m\u001b[90m<int>\u001b[39m\u001b[23m \u001b[3m\u001b[90m<fct>\u001b[39m\u001b[23m   \n",
      "\u001b[90m 1\u001b[39m  15.0    12 W     F     NH       NS    Married    24 Not      42 clerical\n",
      "\u001b[90m 2\u001b[39m  15      12 W     M     NH       NS    Married    40 Union    58 const   \n",
      "\u001b[90m 3\u001b[39m  15      12 W     M     NH       NS    Married    33 Union    51 const   \n",
      "\u001b[90m 4\u001b[39m  44.5    14 W     F     NH       NS    Single      1 Not      21 manag   \n",
      "\u001b[90m 5\u001b[39m  22.2    12 W     M     NH       NS    Married    26 Union    44 manuf   \n",
      "\u001b[90m 6\u001b[39m  26      14 W     M     NH       NS    Married    21 Union    41 other   \n",
      "\u001b[90m 7\u001b[39m  25.0    17 W     M     Hisp     NS    Married    18 Not      41 prof    \n",
      "\u001b[90m 8\u001b[39m  25.0    17 W     F     NH       NS    Single      5 Not      28 prof    \n",
      "\u001b[90m 9\u001b[39m  25.0    17 W     M     NH       NS    Married    31 Not      54 prof    \n",
      "\u001b[90m10\u001b[39m  25.0    16 W     F     NH       S     Single      5 Not      27 prof    \n",
      "\u001b[90m11\u001b[39m  20.0    14 W     M     NH       S     Married    44 Not      64 sales   \n",
      "\u001b[90m12\u001b[39m  25      14 W     M     Hisp     NS    Single      4 Union    24 service \n"
     ]
    }
   ],
   "source": [
    "# 섹터별로 임금이 가장 높은 사람들\n",
    "cps |>\n",
    "    group_by(sector) |>\n",
    "    slice_max(wage, n = 1) |>\n",
    "    print()"
   ]
  },
  {
   "attachments": {},
   "cell_type": "markdown",
   "metadata": {},
   "source": [
    "2개 이상의 변수들로 grouping할 수 있음  "
   ]
  },
  {
   "cell_type": "code",
   "execution_count": 70,
   "metadata": {
    "vscode": {
     "languageId": "r"
    }
   },
   "outputs": [
    {
     "name": "stderr",
     "output_type": "stream",
     "text": [
      "\u001b[1m\u001b[22m`summarise()` has grouped output by 'sex'. You can override using the `.groups`\n",
      "argument.\n"
     ]
    },
    {
     "name": "stdout",
     "output_type": "stream",
     "text": [
      "\u001b[90m# A tibble: 4 × 4\u001b[39m\n",
      "\u001b[90m# Groups:   sex [2]\u001b[39m\n",
      "  sex   married ave_wage sd_wage\n",
      "  \u001b[3m\u001b[90m<fct>\u001b[39m\u001b[23m \u001b[3m\u001b[90m<fct>\u001b[39m\u001b[23m      \u001b[3m\u001b[90m<dbl>\u001b[39m\u001b[23m   \u001b[3m\u001b[90m<dbl>\u001b[39m\u001b[23m\n",
      "\u001b[90m1\u001b[39m F     Married     7.68    3.73\n",
      "\u001b[90m2\u001b[39m F     Single      8.26    6.23\n",
      "\u001b[90m3\u001b[39m M     Married    10.9     5.35\n",
      "\u001b[90m4\u001b[39m M     Single      8.35    4.78\n"
     ]
    }
   ],
   "source": [
    "cps |>\n",
    "    group_by(sex, married) |>\n",
    "    summarize(\n",
    "        ave_wage = mean(wage),\n",
    "        sd_wage = sd(wage)) |>\n",
    "    print()"
   ]
  },
  {
   "attachments": {},
   "cell_type": "markdown",
   "metadata": {},
   "source": [
    "이때, 결과 데이터 프레임은 sex로 grouping되어 있음.  \n",
    "grouping을 해제하려면 `ungroup()`이 필요함.  \n",
    "그렇지 않으면, 저 결과는 sex로 grouped data frame임\n",
    "\n",
    "___"
   ]
  },
  {
   "attachments": {},
   "cell_type": "markdown",
   "metadata": {},
   "source": [
    "**Useful summary functions**  \n",
    "자세한 사항은 [R for Data Science/Data transformation](https://r4ds.had.co.nz/transform.html#summarise-funs)\n",
    "\n",
    "- Measures of location: `mean(), median()`\n",
    "- Measures of spread: `sd(), IQR(), mad()`\n",
    "- Measures of rank:  `min(), max(), quantile(x, 0.25)`\n",
    "- Measures of position: `min_rank()`, `first(), nth(x, 2), last()`\n",
    "- Measures of count: `count(), n_distinct()`"
   ]
  },
  {
   "attachments": {},
   "cell_type": "markdown",
   "metadata": {},
   "source": [
    "## Missing\n",
    "R에서 missing values (결측치)는 `NA`로 표시  \n",
    "`NaN` (not a number)는 주로 계산 결과로 나오는데, 예들 들어 0으로 나눌 때처럼, R에서는 NA로 취급되니 크게 신경쓰지 않아도 됨.\n",
    "자세한 사항은 [R for Data Science/Missing values](https://r4ds.hadley.nz/missing-values.html) 참고\n",
    "\n",
    "NA는 다음과 같은 성질을 지님\n",
    "\n",
    "```r\n",
    "NA > 5\n",
    "#> [1] NA\n",
    "10 == NA\n",
    "#> [1] NA\n",
    "NA + 10\n",
    "#> [1] NA\n",
    "NA / 2\n",
    "#> [1] NA\n",
    "NA == NA\n",
    "#> [1] NA\n",
    "\n",
    "x <- NA\n",
    "is.na(x)\n",
    "#> [1] TRUE\n",
    "```"
   ]
  },
  {
   "attachments": {},
   "cell_type": "markdown",
   "metadata": {},
   "source": [
    "NA는 `filter()`는 조건문의 참거짓에 상관없이 모두 제외함\n",
    "- 실제로 조건문의 결과는 TRUE, FALSE로 이루어지짐\n",
    "\n",
    "```r\n",
    "df <- tibble(A = c(1, NA, 3, 4, 2, NA), B = c(2, 5, 3, NA, 10, NA))\n",
    "##       A     B\n",
    "##   <dbl> <dbl>\n",
    "## 1     1     2\n",
    "## 2    NA     5\n",
    "## 3     3     3\n",
    "## 4     4    NA\n",
    "## 5     2    10\n",
    "## 6    NA    NA\n",
    "\n",
    "filter(df, A > 1)\n",
    "##       A     B\n",
    "##   <dbl> <dbl>\n",
    "## 1     3     3\n",
    "## 2     4    NA\n",
    "## 3     2    10\n",
    "\n",
    "# NA를 포함하고자 할 때,\n",
    "filter(df, A > 1 | is.na(A))\n",
    "##       A     B\n",
    "##   <dbl> <dbl>\n",
    "## 1    NA     5\n",
    "## 2     3     3\n",
    "## 3     4    NA\n",
    "## 4     2    10\n",
    "## 5    NA    NA\n",
    "\n",
    "# NA를 포함하지 않은 행들만\n",
    "filter(df, !is.na(A))\n",
    "filter(df, !is.na(A) & !is.na(B))\n",
    "\n",
    "na.omit(df) # NA가 하나라도 있는 행은 모두 제거, 보통 결측치를 조심스럽게 대체한 후 사용\n",
    "##       A     B\n",
    "##   <dbl> <dbl>\n",
    "## 1     1     2\n",
    "## 2     3     3\n",
    "## 3     2    10\n",
    "\n",
    "# 함수 중에 NA를 직접 처리하는 경우들이 많음\n",
    "mean(df$A)\n",
    "## [1] NA\n",
    "\n",
    "mean(df$A, na.rm = TRUE) # NA removed\n",
    "## [1] 2.5\n",
    "\n",
    "```"
   ]
  },
  {
   "cell_type": "code",
   "execution_count": null,
   "metadata": {
    "vscode": {
     "languageId": "r"
    }
   },
   "outputs": [],
   "source": []
  },
  {
   "attachments": {},
   "cell_type": "markdown",
   "metadata": {},
   "source": [
    "## Summary"
   ]
  },
  {
   "attachments": {},
   "cell_type": "markdown",
   "metadata": {},
   "source": [
    "다음 dplyr 패키지의 기본 verb 함수들로 데이터를 가공하면서 필요한 통계치를 구함\n",
    "\n",
    "- 조건에 맞는 행들(관측치)만 필터링: `filter()`\n",
    "- 열을 재정렬: `arrange()`\n",
    "- 변수들의 선택: `select()`\n",
    "- 변수들과 함수들을 이용하여 새로운 변수를 생성: `mutate()`\n",
    "- 원하는 요약 통계치를 간추림: `summarise()`"
   ]
  },
  {
   "cell_type": "markdown",
   "metadata": {},
   "source": []
  }
 ],
 "metadata": {
  "kernelspec": {
   "display_name": "R",
   "language": "R",
   "name": "ir"
  },
  "language_info": {
   "codemirror_mode": "r",
   "file_extension": ".r",
   "mimetype": "text/x-r-source",
   "name": "R",
   "pygments_lexer": "r",
   "version": "4.2.2"
  },
  "orig_nbformat": 4,
  "vscode": {
   "interpreter": {
    "hash": "aee8b7b246df8f9039afb4144a1f6fd8d2ca17a180786b69acc140d282b71a49"
   }
  }
 },
 "nbformat": 4,
 "nbformat_minor": 2
}
