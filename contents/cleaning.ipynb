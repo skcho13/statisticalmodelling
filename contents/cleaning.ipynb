{
 "cells": [
  {
   "cell_type": "raw",
   "metadata": {},
   "source": [
    "---\n",
    "title: Cleaning\n",
    "subtitle: R for Data Science by Wickham & Grolemund\n",
    "date: Feb 17, 2023\n",
    "author: Sungkyun Cho\n",
    "---"
   ]
  },
  {
   "cell_type": "code",
   "execution_count": 4,
   "metadata": {
    "vscode": {
     "languageId": "r"
    }
   },
   "outputs": [],
   "source": [
    "#| echo: false\n",
    "#| warning: false\n",
    "library(tidyverse)\n",
    "options(repr.matrix.min.rows = 6)\n",
    "options(tibble.print_min=6)"
   ]
  },
  {
   "attachments": {},
   "cell_type": "markdown",
   "metadata": {},
   "source": [
    "## 유용한 함수들\n",
    "\n",
    "- `select()`, `mutate()`, `filter()`, `rename()` : 기본 tidyverse verbs  \n",
    "- `rowSums()`, `rowMeans()` : composite 변수들의 합 또는 평균을 구함  \n",
    "- `factor()` : 카테고리 변수의 변환"
   ]
  },
  {
   "cell_type": "code",
   "execution_count": 5,
   "metadata": {
    "vscode": {
     "languageId": "r"
    }
   },
   "outputs": [
    {
     "name": "stderr",
     "output_type": "stream",
     "text": [
      "\u001b[1mRows: \u001b[22m\u001b[34m120\u001b[39m \u001b[1mColumns: \u001b[22m\u001b[34m12\u001b[39m\n",
      "\u001b[36m──\u001b[39m \u001b[1mColumn specification\u001b[22m \u001b[36m────────────────────────────────────────────────────────\u001b[39m\n",
      "\u001b[1mDelimiter:\u001b[22m \",\"\n",
      "\u001b[32mdbl\u001b[39m (12): id, pho_1, pho_2, pho_3, sex, age, emp_q20, emp_q22, emp_q23, emp_...\n",
      "\n",
      "\u001b[36mℹ\u001b[39m Use `spec()` to retrieve the full column specification for this data.\n",
      "\u001b[36mℹ\u001b[39m Specify the column types or set `show_col_types = FALSE` to quiet this message.\n"
     ]
    },
    {
     "name": "stdout",
     "output_type": "stream",
     "text": [
      "\u001b[90m# A tibble: 120 × 12\u001b[39m\n",
      "     id pho_1 pho_2 pho_3   sex   age emp_q20 emp_q22 emp_q23 emp_q24 emp_q25\n",
      "  \u001b[3m\u001b[90m<dbl>\u001b[39m\u001b[23m \u001b[3m\u001b[90m<dbl>\u001b[39m\u001b[23m \u001b[3m\u001b[90m<dbl>\u001b[39m\u001b[23m \u001b[3m\u001b[90m<dbl>\u001b[39m\u001b[23m \u001b[3m\u001b[90m<dbl>\u001b[39m\u001b[23m \u001b[3m\u001b[90m<dbl>\u001b[39m\u001b[23m   \u001b[3m\u001b[90m<dbl>\u001b[39m\u001b[23m   \u001b[3m\u001b[90m<dbl>\u001b[39m\u001b[23m   \u001b[3m\u001b[90m<dbl>\u001b[39m\u001b[23m   \u001b[3m\u001b[90m<dbl>\u001b[39m\u001b[23m   \u001b[3m\u001b[90m<dbl>\u001b[39m\u001b[23m\n",
      "\u001b[90m1\u001b[39m     1    95    95    95     1  \u001b[4m2\u001b[24m004      80      \u001b[31mNA\u001b[39m      80      80      70\n",
      "\u001b[90m2\u001b[39m     2    58    62    \u001b[31mNA\u001b[39m     0  \u001b[4m2\u001b[24m003      62      58      59      57      56\n",
      "\u001b[90m3\u001b[39m     3   100    50    50    \u001b[31mNA\u001b[39m  \u001b[4m2\u001b[24m003      90      51      51      51      52\n",
      "\u001b[90m4\u001b[39m     4    77    77    64     1  \u001b[4m2\u001b[24m004      66      72      88      82      67\n",
      "\u001b[90m5\u001b[39m     5    \u001b[31mNA\u001b[39m    \u001b[31mNA\u001b[39m    \u001b[31mNA\u001b[39m    \u001b[31mNA\u001b[39m    \u001b[31mNA\u001b[39m      \u001b[31mNA\u001b[39m      \u001b[31mNA\u001b[39m      \u001b[31mNA\u001b[39m      \u001b[31mNA\u001b[39m      \u001b[31mNA\u001b[39m\n",
      "\u001b[90m6\u001b[39m     6   100    75   100     0  \u001b[4m2\u001b[24m004     100      60      70      55      70\n",
      "\u001b[90m# … with 114 more rows, and 1 more variable: emp_q26 <dbl>\u001b[39m\n"
     ]
    }
   ],
   "source": [
    "#| warning: false\n",
    "library(tidyverse)\n",
    "\n",
    "# import data\n",
    "helping <- read_csv(\"data/altruism.csv\")\n",
    "helping |> print()"
   ]
  },
  {
   "attachments": {},
   "cell_type": "markdown",
   "metadata": {},
   "source": [
    "## 변수명 수정\n",
    "`rename()`"
   ]
  },
  {
   "cell_type": "code",
   "execution_count": 7,
   "metadata": {
    "vscode": {
     "languageId": "r"
    }
   },
   "outputs": [
    {
     "name": "stdout",
     "output_type": "stream",
     "text": [
      "\u001b[90m# A tibble: 120 × 12\u001b[39m\n",
      "     id   ph1   ph2   ph3   sex   age emp_q20 emp_q22 emp_q23 emp_q24 emp_q25\n",
      "  \u001b[3m\u001b[90m<dbl>\u001b[39m\u001b[23m \u001b[3m\u001b[90m<dbl>\u001b[39m\u001b[23m \u001b[3m\u001b[90m<dbl>\u001b[39m\u001b[23m \u001b[3m\u001b[90m<dbl>\u001b[39m\u001b[23m \u001b[3m\u001b[90m<dbl>\u001b[39m\u001b[23m \u001b[3m\u001b[90m<dbl>\u001b[39m\u001b[23m   \u001b[3m\u001b[90m<dbl>\u001b[39m\u001b[23m   \u001b[3m\u001b[90m<dbl>\u001b[39m\u001b[23m   \u001b[3m\u001b[90m<dbl>\u001b[39m\u001b[23m   \u001b[3m\u001b[90m<dbl>\u001b[39m\u001b[23m   \u001b[3m\u001b[90m<dbl>\u001b[39m\u001b[23m\n",
      "\u001b[90m1\u001b[39m     1    95    95    95     1  \u001b[4m2\u001b[24m004      80      \u001b[31mNA\u001b[39m      80      80      70\n",
      "\u001b[90m2\u001b[39m     2    58    62    \u001b[31mNA\u001b[39m     0  \u001b[4m2\u001b[24m003      62      58      59      57      56\n",
      "\u001b[90m3\u001b[39m     3   100    50    50    \u001b[31mNA\u001b[39m  \u001b[4m2\u001b[24m003      90      51      51      51      52\n",
      "\u001b[90m4\u001b[39m     4    77    77    64     1  \u001b[4m2\u001b[24m004      66      72      88      82      67\n",
      "\u001b[90m5\u001b[39m     5    \u001b[31mNA\u001b[39m    \u001b[31mNA\u001b[39m    \u001b[31mNA\u001b[39m    \u001b[31mNA\u001b[39m    \u001b[31mNA\u001b[39m      \u001b[31mNA\u001b[39m      \u001b[31mNA\u001b[39m      \u001b[31mNA\u001b[39m      \u001b[31mNA\u001b[39m      \u001b[31mNA\u001b[39m\n",
      "\u001b[90m6\u001b[39m     6   100    75   100     0  \u001b[4m2\u001b[24m004     100      60      70      55      70\n",
      "\u001b[90m# … with 114 more rows, and 1 more variable: emp_q26 <dbl>\u001b[39m\n"
     ]
    }
   ],
   "source": [
    "helping |>\n",
    "    rename(ph1 = pho_1, ph2 = pho_2, ph3 = pho_3) |>\n",
    "    print()"
   ]
  },
  {
   "attachments": {},
   "cell_type": "markdown",
   "metadata": {},
   "source": [
    "변형 후에는 꼭 변수에 **assign!**"
   ]
  },
  {
   "cell_type": "code",
   "execution_count": 8,
   "metadata": {
    "vscode": {
     "languageId": "r"
    }
   },
   "outputs": [
    {
     "name": "stdout",
     "output_type": "stream",
     "text": [
      "\u001b[90m# A tibble: 120 × 12\u001b[39m\n",
      "     id   ph1   ph2   ph3   sex   age emp_q20 emp_q22 emp_q23 emp_q24 emp_q25\n",
      "  \u001b[3m\u001b[90m<dbl>\u001b[39m\u001b[23m \u001b[3m\u001b[90m<dbl>\u001b[39m\u001b[23m \u001b[3m\u001b[90m<dbl>\u001b[39m\u001b[23m \u001b[3m\u001b[90m<dbl>\u001b[39m\u001b[23m \u001b[3m\u001b[90m<dbl>\u001b[39m\u001b[23m \u001b[3m\u001b[90m<dbl>\u001b[39m\u001b[23m   \u001b[3m\u001b[90m<dbl>\u001b[39m\u001b[23m   \u001b[3m\u001b[90m<dbl>\u001b[39m\u001b[23m   \u001b[3m\u001b[90m<dbl>\u001b[39m\u001b[23m   \u001b[3m\u001b[90m<dbl>\u001b[39m\u001b[23m   \u001b[3m\u001b[90m<dbl>\u001b[39m\u001b[23m\n",
      "\u001b[90m1\u001b[39m     1    95    95    95     1  \u001b[4m2\u001b[24m004      80      \u001b[31mNA\u001b[39m      80      80      70\n",
      "\u001b[90m2\u001b[39m     2    58    62    \u001b[31mNA\u001b[39m     0  \u001b[4m2\u001b[24m003      62      58      59      57      56\n",
      "\u001b[90m3\u001b[39m     3   100    50    50    \u001b[31mNA\u001b[39m  \u001b[4m2\u001b[24m003      90      51      51      51      52\n",
      "\u001b[90m4\u001b[39m     4    77    77    64     1  \u001b[4m2\u001b[24m004      66      72      88      82      67\n",
      "\u001b[90m5\u001b[39m     5    \u001b[31mNA\u001b[39m    \u001b[31mNA\u001b[39m    \u001b[31mNA\u001b[39m    \u001b[31mNA\u001b[39m    \u001b[31mNA\u001b[39m      \u001b[31mNA\u001b[39m      \u001b[31mNA\u001b[39m      \u001b[31mNA\u001b[39m      \u001b[31mNA\u001b[39m      \u001b[31mNA\u001b[39m\n",
      "\u001b[90m6\u001b[39m     6   100    75   100     0  \u001b[4m2\u001b[24m004     100      60      70      55      70\n",
      "\u001b[90m# … with 114 more rows, and 1 more variable: emp_q26 <dbl>\u001b[39m\n"
     ]
    }
   ],
   "source": [
    "helping <-     # 원래 데이터에 overwrite\n",
    "    helping |>\n",
    "    rename(ph1 = pho_1, ph2 = pho_2, ph3 = pho_3)\n",
    "\n",
    "helping |> print()"
   ]
  },
  {
   "attachments": {},
   "cell_type": "markdown",
   "metadata": {},
   "source": [
    "### 문항을 더할 때\n",
    "`rowSums(row, na.rm = TRUE)` 함수를 이용하는 것이 직접 덧셈보다 더 적절함"
   ]
  },
  {
   "attachments": {},
   "cell_type": "markdown",
   "metadata": {},
   "source": [
    "`ph1`, `ph2`, `ph3` 세 문항을 더하려면,"
   ]
  },
  {
   "cell_type": "code",
   "execution_count": 9,
   "metadata": {
    "vscode": {
     "languageId": "r"
    }
   },
   "outputs": [
    {
     "name": "stdout",
     "output_type": "stream",
     "text": [
      "\u001b[90m# A tibble: 120 × 3\u001b[39m\n",
      "    ph1   ph2   ph3\n",
      "  \u001b[3m\u001b[90m<dbl>\u001b[39m\u001b[23m \u001b[3m\u001b[90m<dbl>\u001b[39m\u001b[23m \u001b[3m\u001b[90m<dbl>\u001b[39m\u001b[23m\n",
      "\u001b[90m1\u001b[39m    95    95    95\n",
      "\u001b[90m2\u001b[39m    58    62    \u001b[31mNA\u001b[39m\n",
      "\u001b[90m3\u001b[39m   100    50    50\n",
      "\u001b[90m4\u001b[39m    77    77    64\n",
      "\u001b[90m5\u001b[39m    \u001b[31mNA\u001b[39m    \u001b[31mNA\u001b[39m    \u001b[31mNA\u001b[39m\n",
      "\u001b[90m6\u001b[39m   100    75   100\n",
      "\u001b[90m# … with 114 more rows\u001b[39m\n"
     ]
    }
   ],
   "source": [
    "# 먼저 문항을 선택/확인\n",
    "helping |>\n",
    "  select(ph1:ph3) |> # position!\n",
    "  print()"
   ]
  },
  {
   "cell_type": "code",
   "execution_count": 10,
   "metadata": {
    "vscode": {
     "languageId": "r"
    }
   },
   "outputs": [
    {
     "name": "stdout",
     "output_type": "stream",
     "text": [
      "  [1] 285 120 200 218   0 275 257 178 256 189 215 226 209 246 159 197 205 225\n",
      " [19] 150 195  44   0   0 125 225 211 270 176 241 205   0 220  98  79 143 165\n",
      " [37]  49 294 300 292 101 285 208 230 255 150 299 188 208 205 138 267 187 300\n",
      " [55] 195 300 236  59 226 193 213 250  32 228 250 300 300 190 230 281 196 268\n",
      " [73] 240 250  39 233 211 198 199 234 300 215 240   9 261 209 281 201 270 255\n",
      " [91] 177 235 161   0 242 151 182 170   3 222 172 194 300 300 293 238 243 260\n",
      "[109] 197 294 280 195 255   1 162 278 176 262 300 164\n"
     ]
    }
   ],
   "source": [
    "helping |>\n",
    "  select(ph1:ph3) |>\n",
    "  rowSums(na.rm = TRUE) |>\n",
    "  print()"
   ]
  },
  {
   "cell_type": "code",
   "execution_count": 11,
   "metadata": {
    "vscode": {
     "languageId": "r"
    }
   },
   "outputs": [
    {
     "name": "stdout",
     "output_type": "stream",
     "text": [
      "\u001b[90m# A tibble: 120 × 13\u001b[39m\n",
      "     id   ph1   ph2   ph3   sex   age emp_q20 emp_q22 emp_q23 emp_q24 emp_q25\n",
      "  \u001b[3m\u001b[90m<dbl>\u001b[39m\u001b[23m \u001b[3m\u001b[90m<dbl>\u001b[39m\u001b[23m \u001b[3m\u001b[90m<dbl>\u001b[39m\u001b[23m \u001b[3m\u001b[90m<dbl>\u001b[39m\u001b[23m \u001b[3m\u001b[90m<dbl>\u001b[39m\u001b[23m \u001b[3m\u001b[90m<dbl>\u001b[39m\u001b[23m   \u001b[3m\u001b[90m<dbl>\u001b[39m\u001b[23m   \u001b[3m\u001b[90m<dbl>\u001b[39m\u001b[23m   \u001b[3m\u001b[90m<dbl>\u001b[39m\u001b[23m   \u001b[3m\u001b[90m<dbl>\u001b[39m\u001b[23m   \u001b[3m\u001b[90m<dbl>\u001b[39m\u001b[23m\n",
      "\u001b[90m1\u001b[39m     1    95    95    95     1  \u001b[4m2\u001b[24m004      80      \u001b[31mNA\u001b[39m      80      80      70\n",
      "\u001b[90m2\u001b[39m     2    58    62    \u001b[31mNA\u001b[39m     0  \u001b[4m2\u001b[24m003      62      58      59      57      56\n",
      "\u001b[90m3\u001b[39m     3   100    50    50    \u001b[31mNA\u001b[39m  \u001b[4m2\u001b[24m003      90      51      51      51      52\n",
      "\u001b[90m4\u001b[39m     4    77    77    64     1  \u001b[4m2\u001b[24m004      66      72      88      82      67\n",
      "\u001b[90m5\u001b[39m     5    \u001b[31mNA\u001b[39m    \u001b[31mNA\u001b[39m    \u001b[31mNA\u001b[39m    \u001b[31mNA\u001b[39m    \u001b[31mNA\u001b[39m      \u001b[31mNA\u001b[39m      \u001b[31mNA\u001b[39m      \u001b[31mNA\u001b[39m      \u001b[31mNA\u001b[39m      \u001b[31mNA\u001b[39m\n",
      "\u001b[90m6\u001b[39m     6   100    75   100     0  \u001b[4m2\u001b[24m004     100      60      70      55      70\n",
      "  emp_q26 phone\n",
      "    \u001b[3m\u001b[90m<dbl>\u001b[39m\u001b[23m \u001b[3m\u001b[90m<dbl>\u001b[39m\u001b[23m\n",
      "\u001b[90m1\u001b[39m      70   285\n",
      "\u001b[90m2\u001b[39m      59   120\n",
      "\u001b[90m3\u001b[39m     100   200\n",
      "\u001b[90m4\u001b[39m      69   218\n",
      "\u001b[90m5\u001b[39m      \u001b[31mNA\u001b[39m     0\n",
      "\u001b[90m6\u001b[39m      90   275\n",
      "\u001b[90m# … with 114 more rows\u001b[39m\n"
     ]
    }
   ],
   "source": [
    "helping[\"phone\"] <-    # \"phone\"이라는 새로운 변수에 assign!\n",
    "  helping |>\n",
    "  select(ph1:ph3) |>\n",
    "  rowSums(na.rm = TRUE)\n",
    "\n",
    "helping |> print(width = Inf)"
   ]
  },
  {
   "attachments": {},
   "cell_type": "markdown",
   "metadata": {},
   "source": [
    "::: {.callout-note}\n",
    "다음과 같이 직접 더하는 것은 부적절\n",
    "```r\n",
    "helping |>\n",
    "  mutate(phone = ph1 + ph2 + ph3) \n",
    "#      id   ph1   ph2   ph3   sex   age emp_q20 emp_q22 emp_q23 emp_q24 emp_q25\n",
    "#   <dbl> <dbl> <dbl> <dbl> <dbl> <dbl>   <dbl>   <dbl>   <dbl>   <dbl>   <dbl>\n",
    "# 1     1    95    95    95     1  2004      80      NA      80      80      70\n",
    "# 2     2    58    62    NA     0  2003      62      58      59      57      56\n",
    "# 3     3   100    50    50    NA  2003      90      51      51      51      52\n",
    "# 4     4    77    77    64     1  2004      66      72      88      82      67\n",
    "# 5     5    NA    NA    NA    NA    NA      NA      NA      NA      NA      NA\n",
    "# 6     6   100    75   100     0  2004     100      60      70      55      70\n",
    "#   emp_q26 phone\n",
    "#     <dbl> <dbl>\n",
    "# 1      70   285\n",
    "# 2      59    NA\n",
    "# 3     100   200\n",
    "# 4      69   218\n",
    "# 5      NA    NA\n",
    "# 6      90   275\n",
    "# # … with 114 more rows\n",
    "```\n",
    ":::"
   ]
  },
  {
   "attachments": {},
   "cell_type": "markdown",
   "metadata": {},
   "source": [
    "### 문항을 평균낼 때\n",
    "`rowMeans(row, na.rm = TRUE)` 함수를 이용하는 것이 적절함"
   ]
  },
  {
   "cell_type": "code",
   "execution_count": 15,
   "metadata": {
    "vscode": {
     "languageId": "r"
    }
   },
   "outputs": [
    {
     "name": "stdout",
     "output_type": "stream",
     "text": [
      "\u001b[90m# A tibble: 120 × 5\u001b[39m\n",
      "  emp_q20 emp_q22 emp_q24 emp_q25 emp_q26\n",
      "    \u001b[3m\u001b[90m<dbl>\u001b[39m\u001b[23m   \u001b[3m\u001b[90m<dbl>\u001b[39m\u001b[23m   \u001b[3m\u001b[90m<dbl>\u001b[39m\u001b[23m   \u001b[3m\u001b[90m<dbl>\u001b[39m\u001b[23m   \u001b[3m\u001b[90m<dbl>\u001b[39m\u001b[23m\n",
      "\u001b[90m1\u001b[39m      80      \u001b[31mNA\u001b[39m      80      70      70\n",
      "\u001b[90m2\u001b[39m      62      58      57      56      59\n",
      "\u001b[90m3\u001b[39m      90      51      51      52     100\n",
      "\u001b[90m4\u001b[39m      66      72      82      67      69\n",
      "\u001b[90m5\u001b[39m      \u001b[31mNA\u001b[39m      \u001b[31mNA\u001b[39m      \u001b[31mNA\u001b[39m      \u001b[31mNA\u001b[39m      \u001b[31mNA\u001b[39m\n",
      "\u001b[90m6\u001b[39m     100      60      55      70      90\n",
      "\u001b[90m# … with 114 more rows\u001b[39m\n"
     ]
    }
   ],
   "source": [
    "# 먼저, 평균을 낼 문항을 선택/확인\n",
    "helping |>\n",
    "  select(emp_q20, emp_q22, emp_q24:emp_q26) |>\n",
    "  print()"
   ]
  },
  {
   "cell_type": "code",
   "execution_count": 16,
   "metadata": {
    "vscode": {
     "languageId": "r"
    }
   },
   "outputs": [
    {
     "name": "stdout",
     "output_type": "stream",
     "text": [
      "\u001b[90m# A tibble: 120 × 14\u001b[39m\n",
      "     id   ph1   ph2   ph3   sex   age emp_q20 emp_q22 emp_q23 emp_q24 emp_q25\n",
      "  \u001b[3m\u001b[90m<dbl>\u001b[39m\u001b[23m \u001b[3m\u001b[90m<dbl>\u001b[39m\u001b[23m \u001b[3m\u001b[90m<dbl>\u001b[39m\u001b[23m \u001b[3m\u001b[90m<dbl>\u001b[39m\u001b[23m \u001b[3m\u001b[90m<dbl>\u001b[39m\u001b[23m \u001b[3m\u001b[90m<dbl>\u001b[39m\u001b[23m   \u001b[3m\u001b[90m<dbl>\u001b[39m\u001b[23m   \u001b[3m\u001b[90m<dbl>\u001b[39m\u001b[23m   \u001b[3m\u001b[90m<dbl>\u001b[39m\u001b[23m   \u001b[3m\u001b[90m<dbl>\u001b[39m\u001b[23m   \u001b[3m\u001b[90m<dbl>\u001b[39m\u001b[23m\n",
      "\u001b[90m1\u001b[39m     1    95    95    95     1  \u001b[4m2\u001b[24m004      80      \u001b[31mNA\u001b[39m      80      80      70\n",
      "\u001b[90m2\u001b[39m     2    58    62    \u001b[31mNA\u001b[39m     0  \u001b[4m2\u001b[24m003      62      58      59      57      56\n",
      "\u001b[90m3\u001b[39m     3   100    50    50    \u001b[31mNA\u001b[39m  \u001b[4m2\u001b[24m003      90      51      51      51      52\n",
      "\u001b[90m4\u001b[39m     4    77    77    64     1  \u001b[4m2\u001b[24m004      66      72      88      82      67\n",
      "\u001b[90m5\u001b[39m     5    \u001b[31mNA\u001b[39m    \u001b[31mNA\u001b[39m    \u001b[31mNA\u001b[39m    \u001b[31mNA\u001b[39m    \u001b[31mNA\u001b[39m      \u001b[31mNA\u001b[39m      \u001b[31mNA\u001b[39m      \u001b[31mNA\u001b[39m      \u001b[31mNA\u001b[39m      \u001b[31mNA\u001b[39m\n",
      "\u001b[90m6\u001b[39m     6   100    75   100     0  \u001b[4m2\u001b[24m004     100      60      70      55      70\n",
      "  emp_q26 phone persp\n",
      "    \u001b[3m\u001b[90m<dbl>\u001b[39m\u001b[23m \u001b[3m\u001b[90m<dbl>\u001b[39m\u001b[23m \u001b[3m\u001b[90m<dbl>\u001b[39m\u001b[23m\n",
      "\u001b[90m1\u001b[39m      70   285  75  \n",
      "\u001b[90m2\u001b[39m      59   120  58.4\n",
      "\u001b[90m3\u001b[39m     100   200  68.8\n",
      "\u001b[90m4\u001b[39m      69   218  71.2\n",
      "\u001b[90m5\u001b[39m      \u001b[31mNA\u001b[39m     0 \u001b[31mNaN\u001b[39m  \n",
      "\u001b[90m6\u001b[39m      90   275  75  \n",
      "\u001b[90m# … with 114 more rows\u001b[39m\n"
     ]
    }
   ],
   "source": [
    "helping[\"persp\"] <- helping |>    # \"persp\"라는 새로운 변수에 assign!\n",
    "  select(emp_q20, emp_q22, emp_q24:emp_q26) |>\n",
    "  rowMeans(na.rm = TRUE)\n",
    "\n",
    "helping |> print(width = Inf)\n"
   ]
  },
  {
   "attachments": {},
   "cell_type": "markdown",
   "metadata": {},
   "source": [
    "### 카테고리 변수 및 연산\n",
    "R의 **factor** 타입으로 바꾸어 분석하는 것이 유리함.  \n",
    "\n",
    "간단한 연산은 직접 계산.  "
   ]
  },
  {
   "cell_type": "code",
   "execution_count": 17,
   "metadata": {
    "vscode": {
     "languageId": "r"
    }
   },
   "outputs": [
    {
     "name": "stdout",
     "output_type": "stream",
     "text": [
      "\u001b[90m# A tibble: 120 × 14\u001b[39m\n",
      "     id   ph1   ph2   ph3 sex      age emp_q20 emp_q22 emp_q23 emp_q24 emp_q25\n",
      "  \u001b[3m\u001b[90m<dbl>\u001b[39m\u001b[23m \u001b[3m\u001b[90m<dbl>\u001b[39m\u001b[23m \u001b[3m\u001b[90m<dbl>\u001b[39m\u001b[23m \u001b[3m\u001b[90m<dbl>\u001b[39m\u001b[23m \u001b[3m\u001b[90m<fct>\u001b[39m\u001b[23m  \u001b[3m\u001b[90m<dbl>\u001b[39m\u001b[23m   \u001b[3m\u001b[90m<dbl>\u001b[39m\u001b[23m   \u001b[3m\u001b[90m<dbl>\u001b[39m\u001b[23m   \u001b[3m\u001b[90m<dbl>\u001b[39m\u001b[23m   \u001b[3m\u001b[90m<dbl>\u001b[39m\u001b[23m   \u001b[3m\u001b[90m<dbl>\u001b[39m\u001b[23m\n",
      "\u001b[90m1\u001b[39m     1    95    95    95 female    19      80      \u001b[31mNA\u001b[39m      80      80      70\n",
      "\u001b[90m2\u001b[39m     2    58    62    \u001b[31mNA\u001b[39m male      20      62      58      59      57      56\n",
      "\u001b[90m3\u001b[39m     3   100    50    50 \u001b[31mNA\u001b[39m        20      90      51      51      51      52\n",
      "\u001b[90m4\u001b[39m     4    77    77    64 female    19      66      72      88      82      67\n",
      "\u001b[90m5\u001b[39m     5    \u001b[31mNA\u001b[39m    \u001b[31mNA\u001b[39m    \u001b[31mNA\u001b[39m \u001b[31mNA\u001b[39m        \u001b[31mNA\u001b[39m      \u001b[31mNA\u001b[39m      \u001b[31mNA\u001b[39m      \u001b[31mNA\u001b[39m      \u001b[31mNA\u001b[39m      \u001b[31mNA\u001b[39m\n",
      "\u001b[90m6\u001b[39m     6   100    75   100 male      19     100      60      70      55      70\n",
      "  emp_q26 phone persp\n",
      "    \u001b[3m\u001b[90m<dbl>\u001b[39m\u001b[23m \u001b[3m\u001b[90m<dbl>\u001b[39m\u001b[23m \u001b[3m\u001b[90m<dbl>\u001b[39m\u001b[23m\n",
      "\u001b[90m1\u001b[39m      70   285  75  \n",
      "\u001b[90m2\u001b[39m      59   120  58.4\n",
      "\u001b[90m3\u001b[39m     100   200  68.8\n",
      "\u001b[90m4\u001b[39m      69   218  71.2\n",
      "\u001b[90m5\u001b[39m      \u001b[31mNA\u001b[39m     0 \u001b[31mNaN\u001b[39m  \n",
      "\u001b[90m6\u001b[39m      90   275  75  \n",
      "\u001b[90m# … with 114 more rows\u001b[39m\n"
     ]
    }
   ],
   "source": [
    "helping |>\n",
    "  mutate(\n",
    "    sex = factor(sex, levels = c(0, 1), labels = c(\"male\", \"female\")),  # factor 타입의 변수로 변환\n",
    "    age = 2023 - age  # 출생년도로부터 나이 계산\n",
    "  ) |>\n",
    "  print(width = Inf)"
   ]
  },
  {
   "attachments": {},
   "cell_type": "markdown",
   "metadata": {},
   "source": [
    "### 행의 삭제\n",
    "`filter()`를 활용\n",
    "\n",
    "예를 들어, 5번째 행을 지우려면"
   ]
  },
  {
   "cell_type": "code",
   "execution_count": 18,
   "metadata": {
    "vscode": {
     "languageId": "r"
    }
   },
   "outputs": [
    {
     "name": "stdout",
     "output_type": "stream",
     "text": [
      "\u001b[90m# A tibble: 119 × 14\u001b[39m\n",
      "     id   ph1   ph2   ph3   sex   age emp_q20 emp_q22 emp_q23 emp_q24 emp_q25\n",
      "  \u001b[3m\u001b[90m<dbl>\u001b[39m\u001b[23m \u001b[3m\u001b[90m<dbl>\u001b[39m\u001b[23m \u001b[3m\u001b[90m<dbl>\u001b[39m\u001b[23m \u001b[3m\u001b[90m<dbl>\u001b[39m\u001b[23m \u001b[3m\u001b[90m<dbl>\u001b[39m\u001b[23m \u001b[3m\u001b[90m<dbl>\u001b[39m\u001b[23m   \u001b[3m\u001b[90m<dbl>\u001b[39m\u001b[23m   \u001b[3m\u001b[90m<dbl>\u001b[39m\u001b[23m   \u001b[3m\u001b[90m<dbl>\u001b[39m\u001b[23m   \u001b[3m\u001b[90m<dbl>\u001b[39m\u001b[23m   \u001b[3m\u001b[90m<dbl>\u001b[39m\u001b[23m\n",
      "\u001b[90m1\u001b[39m     1    95    95    95     1  \u001b[4m2\u001b[24m004      80      \u001b[31mNA\u001b[39m      80      80      70\n",
      "\u001b[90m2\u001b[39m     2    58    62    \u001b[31mNA\u001b[39m     0  \u001b[4m2\u001b[24m003      62      58      59      57      56\n",
      "\u001b[90m3\u001b[39m     3   100    50    50    \u001b[31mNA\u001b[39m  \u001b[4m2\u001b[24m003      90      51      51      51      52\n",
      "\u001b[90m4\u001b[39m     4    77    77    64     1  \u001b[4m2\u001b[24m004      66      72      88      82      67\n",
      "\u001b[90m5\u001b[39m     6   100    75   100     0  \u001b[4m2\u001b[24m004     100      60      70      55      70\n",
      "\u001b[90m6\u001b[39m     7    77    94    86     1  \u001b[4m2\u001b[24m004      91      93      85      91      73\n",
      "\u001b[90m# … with 113 more rows, and 3 more variables: emp_q26 <dbl>, phone <dbl>,\u001b[39m\n",
      "\u001b[90m#   persp <dbl>\u001b[39m\n"
     ]
    }
   ],
   "source": [
    "helping |>\n",
    "    filter(!id == 5) |> # !는 not의 의미\n",
    "    print()\n",
    "\n",
    "# 다시 helping에 assign 해야 수정됨!"
   ]
  },
  {
   "attachments": {},
   "cell_type": "markdown",
   "metadata": {},
   "source": [
    "여러 행을 지우려면?  \n",
    "`%in%` 응용"
   ]
  },
  {
   "cell_type": "code",
   "execution_count": 19,
   "metadata": {
    "vscode": {
     "languageId": "r"
    }
   },
   "outputs": [
    {
     "name": "stdout",
     "output_type": "stream",
     "text": [
      "\u001b[90m# A tibble: 117 × 14\u001b[39m\n",
      "     id   ph1   ph2   ph3   sex   age emp_q20 emp_q22 emp_q23 emp_q24 emp_q25\n",
      "  \u001b[3m\u001b[90m<dbl>\u001b[39m\u001b[23m \u001b[3m\u001b[90m<dbl>\u001b[39m\u001b[23m \u001b[3m\u001b[90m<dbl>\u001b[39m\u001b[23m \u001b[3m\u001b[90m<dbl>\u001b[39m\u001b[23m \u001b[3m\u001b[90m<dbl>\u001b[39m\u001b[23m \u001b[3m\u001b[90m<dbl>\u001b[39m\u001b[23m   \u001b[3m\u001b[90m<dbl>\u001b[39m\u001b[23m   \u001b[3m\u001b[90m<dbl>\u001b[39m\u001b[23m   \u001b[3m\u001b[90m<dbl>\u001b[39m\u001b[23m   \u001b[3m\u001b[90m<dbl>\u001b[39m\u001b[23m   \u001b[3m\u001b[90m<dbl>\u001b[39m\u001b[23m\n",
      "\u001b[90m1\u001b[39m     2    58    62    \u001b[31mNA\u001b[39m     0  \u001b[4m2\u001b[24m003      62      58      59      57      56\n",
      "\u001b[90m2\u001b[39m     4    77    77    64     1  \u001b[4m2\u001b[24m004      66      72      88      82      67\n",
      "\u001b[90m3\u001b[39m     6   100    75   100     0  \u001b[4m2\u001b[24m004     100      60      70      55      70\n",
      "\u001b[90m4\u001b[39m     7    77    94    86     1  \u001b[4m2\u001b[24m004      91      93      85      91      73\n",
      "\u001b[90m5\u001b[39m     8    90    68    20     0  \u001b[4m2\u001b[24m004      67      66      31      67      63\n",
      "\u001b[90m6\u001b[39m     9   100    79    77     0  \u001b[4m2\u001b[24m003      61      51      30      51      51\n",
      "\u001b[90m# … with 111 more rows, and 3 more variables: emp_q26 <dbl>, phone <dbl>,\u001b[39m\n",
      "\u001b[90m#   persp <dbl>\u001b[39m\n"
     ]
    }
   ],
   "source": [
    "helping |>\n",
    "    filter(!id %in% c(1, 3, 5)) |> # !는 not의 의미\n",
    "    print()"
   ]
  },
  {
   "attachments": {},
   "cell_type": "markdown",
   "metadata": {},
   "source": [
    "### 열의 삭제\n",
    "`select()` 활용\n",
    "\n",
    "`emp_q23`, `emp_q25` 두 열을 삭제"
   ]
  },
  {
   "cell_type": "code",
   "execution_count": 20,
   "metadata": {
    "vscode": {
     "languageId": "r"
    }
   },
   "outputs": [
    {
     "name": "stdout",
     "output_type": "stream",
     "text": [
      "\u001b[90m# A tibble: 120 × 12\u001b[39m\n",
      "     id   ph1   ph2   ph3   sex   age emp_q20 emp_q22 emp_q24 emp_q26 phone\n",
      "  \u001b[3m\u001b[90m<dbl>\u001b[39m\u001b[23m \u001b[3m\u001b[90m<dbl>\u001b[39m\u001b[23m \u001b[3m\u001b[90m<dbl>\u001b[39m\u001b[23m \u001b[3m\u001b[90m<dbl>\u001b[39m\u001b[23m \u001b[3m\u001b[90m<dbl>\u001b[39m\u001b[23m \u001b[3m\u001b[90m<dbl>\u001b[39m\u001b[23m   \u001b[3m\u001b[90m<dbl>\u001b[39m\u001b[23m   \u001b[3m\u001b[90m<dbl>\u001b[39m\u001b[23m   \u001b[3m\u001b[90m<dbl>\u001b[39m\u001b[23m   \u001b[3m\u001b[90m<dbl>\u001b[39m\u001b[23m \u001b[3m\u001b[90m<dbl>\u001b[39m\u001b[23m\n",
      "\u001b[90m1\u001b[39m     1    95    95    95     1  \u001b[4m2\u001b[24m004      80      \u001b[31mNA\u001b[39m      80      70   285\n",
      "\u001b[90m2\u001b[39m     2    58    62    \u001b[31mNA\u001b[39m     0  \u001b[4m2\u001b[24m003      62      58      57      59   120\n",
      "\u001b[90m3\u001b[39m     3   100    50    50    \u001b[31mNA\u001b[39m  \u001b[4m2\u001b[24m003      90      51      51     100   200\n",
      "\u001b[90m4\u001b[39m     4    77    77    64     1  \u001b[4m2\u001b[24m004      66      72      82      69   218\n",
      "\u001b[90m5\u001b[39m     5    \u001b[31mNA\u001b[39m    \u001b[31mNA\u001b[39m    \u001b[31mNA\u001b[39m    \u001b[31mNA\u001b[39m    \u001b[31mNA\u001b[39m      \u001b[31mNA\u001b[39m      \u001b[31mNA\u001b[39m      \u001b[31mNA\u001b[39m      \u001b[31mNA\u001b[39m     0\n",
      "\u001b[90m6\u001b[39m     6   100    75   100     0  \u001b[4m2\u001b[24m004     100      60      55      90   275\n",
      "\u001b[90m# … with 114 more rows, and 1 more variable: persp <dbl>\u001b[39m\n"
     ]
    }
   ],
   "source": [
    "helping |>\n",
    "    select(-emp_q23, -emp_q25) |>\n",
    "    print()"
   ]
  },
  {
   "attachments": {},
   "cell_type": "markdown",
   "metadata": {},
   "source": [
    "`emp_q23`부터 `emp_q26` 열을 삭제 (위치의 의미로)"
   ]
  },
  {
   "cell_type": "code",
   "execution_count": 21,
   "metadata": {
    "vscode": {
     "languageId": "r"
    }
   },
   "outputs": [
    {
     "name": "stdout",
     "output_type": "stream",
     "text": [
      "\u001b[90m# A tibble: 120 × 10\u001b[39m\n",
      "     id   ph1   ph2   ph3   sex   age emp_q20 emp_q22 phone persp\n",
      "  \u001b[3m\u001b[90m<dbl>\u001b[39m\u001b[23m \u001b[3m\u001b[90m<dbl>\u001b[39m\u001b[23m \u001b[3m\u001b[90m<dbl>\u001b[39m\u001b[23m \u001b[3m\u001b[90m<dbl>\u001b[39m\u001b[23m \u001b[3m\u001b[90m<dbl>\u001b[39m\u001b[23m \u001b[3m\u001b[90m<dbl>\u001b[39m\u001b[23m   \u001b[3m\u001b[90m<dbl>\u001b[39m\u001b[23m   \u001b[3m\u001b[90m<dbl>\u001b[39m\u001b[23m \u001b[3m\u001b[90m<dbl>\u001b[39m\u001b[23m \u001b[3m\u001b[90m<dbl>\u001b[39m\u001b[23m\n",
      "\u001b[90m1\u001b[39m     1    95    95    95     1  \u001b[4m2\u001b[24m004      80      \u001b[31mNA\u001b[39m   285  75  \n",
      "\u001b[90m2\u001b[39m     2    58    62    \u001b[31mNA\u001b[39m     0  \u001b[4m2\u001b[24m003      62      58   120  58.4\n",
      "\u001b[90m3\u001b[39m     3   100    50    50    \u001b[31mNA\u001b[39m  \u001b[4m2\u001b[24m003      90      51   200  68.8\n",
      "\u001b[90m4\u001b[39m     4    77    77    64     1  \u001b[4m2\u001b[24m004      66      72   218  71.2\n",
      "\u001b[90m5\u001b[39m     5    \u001b[31mNA\u001b[39m    \u001b[31mNA\u001b[39m    \u001b[31mNA\u001b[39m    \u001b[31mNA\u001b[39m    \u001b[31mNA\u001b[39m      \u001b[31mNA\u001b[39m      \u001b[31mNA\u001b[39m     0 \u001b[31mNaN\u001b[39m  \n",
      "\u001b[90m6\u001b[39m     6   100    75   100     0  \u001b[4m2\u001b[24m004     100      60   275  75  \n",
      "\u001b[90m# … with 114 more rows\u001b[39m\n"
     ]
    }
   ],
   "source": [
    "helping |>\n",
    "    select(-(emp_q23:emp_q26)) |>  # () 꼭 필요\n",
    "    print()"
   ]
  },
  {
   "attachments": {},
   "cell_type": "markdown",
   "metadata": {},
   "source": [
    "## 이상치 발견\n",
    "Outliers을 찾는 방법은 다양하고 복잡한 테크닉을 요하기도 하는데, 앞으로 점차 익히게 될 것임\n",
    "\n",
    "예를 들어, `age`에 잘못 기입한 경우가 있는데"
   ]
  },
  {
   "cell_type": "code",
   "execution_count": 22,
   "metadata": {
    "vscode": {
     "languageId": "r"
    }
   },
   "outputs": [],
   "source": [
    "#| echo: false\n",
    "options(repr.plot.width = 6, repr.plot.height = 4, repr.plot.res = 95)"
   ]
  },
  {
   "cell_type": "code",
   "execution_count": 23,
   "metadata": {
    "vscode": {
     "languageId": "r"
    }
   },
   "outputs": [
    {
     "name": "stderr",
     "output_type": "stream",
     "text": [
      "\u001b[1mRows: \u001b[22m\u001b[34m120\u001b[39m \u001b[1mColumns: \u001b[22m\u001b[34m12\u001b[39m\n",
      "\u001b[36m──\u001b[39m \u001b[1mColumn specification\u001b[22m \u001b[36m────────────────────────────────────────────────────────\u001b[39m\n",
      "\u001b[1mDelimiter:\u001b[22m \",\"\n",
      "\u001b[32mdbl\u001b[39m (12): id, pho_1, pho_2, pho_3, sex, age, emp_q20, emp_q22, emp_q23, emp_...\n",
      "\n",
      "\u001b[36mℹ\u001b[39m Use `spec()` to retrieve the full column specification for this data.\n",
      "\u001b[36mℹ\u001b[39m Specify the column types or set `show_col_types = FALSE` to quiet this message.\n",
      "\u001b[1m\u001b[22m`stat_bin()` using `bins = 30`. Pick better value with `binwidth`.\n",
      "Warning message:\n",
      "“\u001b[1m\u001b[22mRemoved 3 rows containing non-finite values (`stat_bin()`).”\n"
     ]
    },
    {
     "data": {
      "image/png": "[encoded data removed]",
      "text/plain": [
       "plot without title"
      ]
     },
     "metadata": {
      "image/png": {
       "height": 190,
       "width": 285
      }
     },
     "output_type": "display_data"
    }
   ],
   "source": [
    "#| warning: false\n",
    "helping <- read_csv(\"data/altruism.csv\")\n",
    "\n",
    "helping |>\n",
    "    ggplot(aes(x = age)) +\n",
    "    geom_histogram()"
   ]
  },
  {
   "attachments": {},
   "cell_type": "markdown",
   "metadata": {},
   "source": [
    "`age`는 출생년도를 물어봤으나 다른 답을 한 경우들이 있음  \n",
    "값은 2002 ~ 2004 이 정상이므로 `filter()`를 써서 확인해 볼 수 있음"
   ]
  },
  {
   "cell_type": "code",
   "execution_count": 24,
   "metadata": {
    "vscode": {
     "languageId": "r"
    }
   },
   "outputs": [
    {
     "name": "stdout",
     "output_type": "stream",
     "text": [
      "\u001b[90m# A tibble: 7 × 12\u001b[39m\n",
      "     id pho_1 pho_2 pho_3   sex   age emp_q20 emp_q22 emp_q23 emp_q24 emp_q25\n",
      "  \u001b[3m\u001b[90m<dbl>\u001b[39m\u001b[23m \u001b[3m\u001b[90m<dbl>\u001b[39m\u001b[23m \u001b[3m\u001b[90m<dbl>\u001b[39m\u001b[23m \u001b[3m\u001b[90m<dbl>\u001b[39m\u001b[23m \u001b[3m\u001b[90m<dbl>\u001b[39m\u001b[23m \u001b[3m\u001b[90m<dbl>\u001b[39m\u001b[23m   \u001b[3m\u001b[90m<dbl>\u001b[39m\u001b[23m   \u001b[3m\u001b[90m<dbl>\u001b[39m\u001b[23m   \u001b[3m\u001b[90m<dbl>\u001b[39m\u001b[23m   \u001b[3m\u001b[90m<dbl>\u001b[39m\u001b[23m   \u001b[3m\u001b[90m<dbl>\u001b[39m\u001b[23m\n",
      "\u001b[90m1\u001b[39m    11    65    94    56     1   203      62      86      58      47      62\n",
      "\u001b[90m2\u001b[39m    21    17    10    17     1 \u001b[4m2\u001b[24m\u001b[4m0\u001b[24m004       0       6       1       0       4\n",
      "\u001b[90m3\u001b[39m    43    90    88    30     1   507     100      78      62     100      78\n",
      "\u001b[90m4\u001b[39m    52   100    82    85     1   723      87      83      89     100      88\n",
      "\u001b[90m5\u001b[39m    59    76    86    64     0   709     100      93      67      94      79\n",
      "\u001b[90m6\u001b[39m   108    75   100    85     1  \u001b[4m2\u001b[24m005     100     100     100     100      97\n",
      "\u001b[90m7\u001b[39m   118    92    76    94     0  \u001b[4m1\u001b[24m108      55      51      51      60      53\n",
      "\u001b[90m# … with 1 more variable: emp_q26 <dbl>\u001b[39m\n"
     ]
    }
   ],
   "source": [
    "helping |>\n",
    "    filter(age < 2002 | age > 2004) |>\n",
    "    print()"
   ]
  },
  {
   "attachments": {},
   "cell_type": "markdown",
   "metadata": {},
   "source": [
    "## 샘플 R script"
   ]
  },
  {
   "cell_type": "code",
   "execution_count": 27,
   "metadata": {
    "vscode": {
     "languageId": "r"
    }
   },
   "outputs": [
    {
     "name": "stderr",
     "output_type": "stream",
     "text": [
      "\u001b[1mRows: \u001b[22m\u001b[34m120\u001b[39m \u001b[1mColumns: \u001b[22m\u001b[34m12\u001b[39m\n",
      "\u001b[36m──\u001b[39m \u001b[1mColumn specification\u001b[22m \u001b[36m────────────────────────────────────────────────────────\u001b[39m\n",
      "\u001b[1mDelimiter:\u001b[22m \",\"\n",
      "\u001b[32mdbl\u001b[39m (12): id, pho_1, pho_2, pho_3, sex, age, emp_q20, emp_q22, emp_q23, emp_...\n",
      "\n",
      "\u001b[36mℹ\u001b[39m Use `spec()` to retrieve the full column specification for this data.\n",
      "\u001b[36mℹ\u001b[39m Specify the column types or set `show_col_types = FALSE` to quiet this message.\n"
     ]
    }
   ],
   "source": [
    "#| warning: false\n",
    "library(tidyverse)\n",
    "\n",
    "# import data\n",
    "helping <- read_csv(\"data/altruism.csv\")\n",
    "\n",
    "# rename\n",
    "helping <- helping |>\n",
    "    rename(ph1 = pho_1, ph2 = pho_2, ph3 = pho_3) \n",
    "\n",
    "# delete reponses\n",
    "helping <- helping |>\n",
    "    filter(!id == 5)\n",
    "\n",
    "# scoring\n",
    "helping[\"phone\"] <- helping |>\n",
    "  select(ph1:ph3) |>\n",
    "  rowMeans(na.rm = TRUE)\n",
    "\n",
    "helping[\"persp\"] <- helping |> \n",
    "  select(emp_q20, emp_q22, emp_q24:emp_q26) |>\n",
    "  rowMeans(na.rm = TRUE)\n",
    "\n",
    "# factors and etc.\n",
    "helping <- helping |>\n",
    "  mutate(\n",
    "    sex = factor(sex, levels = c(0, 1), labels = c(\"male\", \"female\")),\n",
    "    age = 2023 - age\n",
    "  )\n",
    "\n",
    "# select variables\n",
    "helping <- helping |>\n",
    "  select(id, sex, age, phone, persp)"
   ]
  },
  {
   "attachments": {},
   "cell_type": "markdown",
   "metadata": {},
   "source": [
    "정리된 파일로 분석 시작!"
   ]
  },
  {
   "cell_type": "code",
   "execution_count": 29,
   "metadata": {
    "vscode": {
     "languageId": "r"
    }
   },
   "outputs": [
    {
     "name": "stdout",
     "output_type": "stream",
     "text": [
      "\u001b[90m# A tibble: 119 × 5\u001b[39m\n",
      "     id sex      age phone persp\n",
      "  \u001b[3m\u001b[90m<dbl>\u001b[39m\u001b[23m \u001b[3m\u001b[90m<fct>\u001b[39m\u001b[23m  \u001b[3m\u001b[90m<dbl>\u001b[39m\u001b[23m \u001b[3m\u001b[90m<dbl>\u001b[39m\u001b[23m \u001b[3m\u001b[90m<dbl>\u001b[39m\u001b[23m\n",
      "\u001b[90m1\u001b[39m     1 female    19  95    75  \n",
      "\u001b[90m2\u001b[39m     2 male      20  60    58.4\n",
      "\u001b[90m3\u001b[39m     3 \u001b[31mNA\u001b[39m        20  66.7  68.8\n",
      "\u001b[90m4\u001b[39m     4 female    19  72.7  71.2\n",
      "\u001b[90m5\u001b[39m     6 male      19  91.7  75  \n",
      "\u001b[90m6\u001b[39m     7 female    19  85.7  82.6\n",
      "\u001b[90m# … with 113 more rows\u001b[39m\n"
     ]
    }
   ],
   "source": [
    "helping |> print()"
   ]
  }
 ],
 "metadata": {
  "kernelspec": {
   "display_name": "R",
   "language": "R",
   "name": "ir"
  },
  "language_info": {
   "codemirror_mode": "r",
   "file_extension": ".r",
   "mimetype": "text/x-r-source",
   "name": "R",
   "pygments_lexer": "r",
   "version": "4.2.2"
  },
  "orig_nbformat": 4
 },
 "nbformat": 4,
 "nbformat_minor": 2
}
