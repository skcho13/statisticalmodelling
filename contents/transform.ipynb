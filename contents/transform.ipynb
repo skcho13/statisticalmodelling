{
 "cells": [
  {
   "cell_type": "raw",
   "metadata": {},
   "source": [
    "---\n",
    "title: Transform\n",
    "subtitle: Mixed\n",
    "date: Feb 17, 2023\n",
    "author: Sungkyun Cho\n",
    "---"
   ]
  }
 ],
 "metadata": {
  "language_info": {
   "name": "python"
  },
  "orig_nbformat": 4
 },
 "nbformat": 4,
 "nbformat_minor": 2
}
