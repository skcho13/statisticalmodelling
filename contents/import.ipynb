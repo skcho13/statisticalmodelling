{
 "cells": [
  {
   "cell_type": "raw",
   "metadata": {},
   "source": [
    "---\n",
    "title: Import\n",
    "subtitle: R for Data Science by Wickham & Grolemund\n",
    "date: Feb 17, 2023\n",
    "author: Sungkyun Cho\n",
    "---"
   ]
  },
  {
   "cell_type": "code",
   "execution_count": 1,
   "metadata": {
    "vscode": {
     "languageId": "r"
    }
   },
   "outputs": [
    {
     "name": "stderr",
     "output_type": "stream",
     "text": [
      "── \u001b[1mAttaching core tidyverse packages\u001b[22m ──────────────────────── tidyverse 2.0.0 ──\n",
      "\u001b[32m✔\u001b[39m \u001b[34mdplyr    \u001b[39m 1.1.0     \u001b[32m✔\u001b[39m \u001b[34mreadr    \u001b[39m 2.1.4\n",
      "\u001b[32m✔\u001b[39m \u001b[34mforcats  \u001b[39m 1.0.0     \u001b[32m✔\u001b[39m \u001b[34mstringr  \u001b[39m 1.5.0\n",
      "\u001b[32m✔\u001b[39m \u001b[34mggplot2  \u001b[39m 3.4.1     \u001b[32m✔\u001b[39m \u001b[34mtibble   \u001b[39m 3.1.8\n",
      "\u001b[32m✔\u001b[39m \u001b[34mlubridate\u001b[39m 1.9.2     \u001b[32m✔\u001b[39m \u001b[34mtidyr    \u001b[39m 1.3.0\n",
      "\u001b[32m✔\u001b[39m \u001b[34mpurrr    \u001b[39m 1.0.1     \n",
      "── \u001b[1mConflicts\u001b[22m ────────────────────────────────────────── tidyverse_conflicts() ──\n",
      "\u001b[31m✖\u001b[39m \u001b[34mdplyr\u001b[39m::\u001b[32mfilter()\u001b[39m masks \u001b[34mstats\u001b[39m::filter()\n",
      "\u001b[31m✖\u001b[39m \u001b[34mdplyr\u001b[39m::\u001b[32mlag()\u001b[39m    masks \u001b[34mstats\u001b[39m::lag()\n",
      "\u001b[36mℹ\u001b[39m Use the conflicted package (\u001b[3m\u001b[34m<http://conflicted.r-lib.org/>\u001b[39m\u001b[23m) to force all conflicts to become errors\n"
     ]
    }
   ],
   "source": [
    "#| echo: false\n",
    "#| warning: false\n",
    "library(tidyverse)\n",
    "\n",
    "options(tibble.print_min=6)"
   ]
  },
  {
   "attachments": {},
   "cell_type": "markdown",
   "metadata": {},
   "source": [
    "자세한 데이터 import에 대해서는 [링크](https://r4ds.had.co.nz/data-import.html)\n",
    "\n",
    "## Text files: csv\n",
    "`readr` 패키지(`tidyverse`에 포함)\n",
    "\n",
    "`read_csv()`, `write_csv()`\n",
    "\n",
    "- R 기본 함수 `read.csv()`를 개선\n",
    "- 다양한 옵션은 `?read_csv`, `?write_csv` 참고"
   ]
  },
  {
   "attachments": {},
   "cell_type": "markdown",
   "metadata": {},
   "source": [
    "### csv 파일 읽기\n",
    "\n",
    "[altruism.csv 파일 링크](https://www.dropbox.com/s/fvuoi6jev84bnkc/altruism.csv?dl=0)"
   ]
  },
  {
   "cell_type": "code",
   "execution_count": 1,
   "metadata": {
    "vscode": {
     "languageId": "r"
    }
   },
   "outputs": [
    {
     "name": "stderr",
     "output_type": "stream",
     "text": [
      "── \u001b[1mAttaching core tidyverse packages\u001b[22m ──────────────────────── tidyverse 2.0.0 ──\n",
      "\u001b[32m✔\u001b[39m \u001b[34mdplyr    \u001b[39m 1.1.0     \u001b[32m✔\u001b[39m \u001b[34mreadr    \u001b[39m 2.1.4\n",
      "\u001b[32m✔\u001b[39m \u001b[34mforcats  \u001b[39m 1.0.0     \u001b[32m✔\u001b[39m \u001b[34mstringr  \u001b[39m 1.5.0\n",
      "\u001b[32m✔\u001b[39m \u001b[34mggplot2  \u001b[39m 3.4.1     \u001b[32m✔\u001b[39m \u001b[34mtibble   \u001b[39m 3.1.8\n",
      "\u001b[32m✔\u001b[39m \u001b[34mlubridate\u001b[39m 1.9.2     \u001b[32m✔\u001b[39m \u001b[34mtidyr    \u001b[39m 1.3.0\n",
      "\u001b[32m✔\u001b[39m \u001b[34mpurrr    \u001b[39m 1.0.1     \n",
      "── \u001b[1mConflicts\u001b[22m ────────────────────────────────────────── tidyverse_conflicts() ──\n",
      "\u001b[31m✖\u001b[39m \u001b[34mdplyr\u001b[39m::\u001b[32mfilter()\u001b[39m masks \u001b[34mstats\u001b[39m::filter()\n",
      "\u001b[31m✖\u001b[39m \u001b[34mdplyr\u001b[39m::\u001b[32mlag()\u001b[39m    masks \u001b[34mstats\u001b[39m::lag()\n",
      "\u001b[36mℹ\u001b[39m Use the conflicted package (\u001b[3m\u001b[34m<http://conflicted.r-lib.org/>\u001b[39m\u001b[23m) to force all conflicts to become errors\n",
      "\u001b[1mRows: \u001b[22m\u001b[34m120\u001b[39m \u001b[1mColumns: \u001b[22m\u001b[34m12\u001b[39m\n",
      "\u001b[36m──\u001b[39m \u001b[1mColumn specification\u001b[22m \u001b[36m────────────────────────────────────────────────────────\u001b[39m\n",
      "\u001b[1mDelimiter:\u001b[22m \",\"\n",
      "\u001b[32mdbl\u001b[39m (12): id, pho_1, pho_2, pho_3, sex, age, emp_q20, emp_q22, emp_q23, emp_...\n",
      "\n",
      "\u001b[36mℹ\u001b[39m Use `spec()` to retrieve the full column specification for this data.\n",
      "\u001b[36mℹ\u001b[39m Specify the column types or set `show_col_types = FALSE` to quiet this message.\n"
     ]
    },
    {
     "name": "stdout",
     "output_type": "stream",
     "text": [
      "\u001b[90m# A tibble: 120 × 12\u001b[39m\n",
      "      id pho_1 pho_2 pho_3   sex   age emp_q20 emp_q22 emp_q23 emp_q24 emp_q25\n",
      "   \u001b[3m\u001b[90m<dbl>\u001b[39m\u001b[23m \u001b[3m\u001b[90m<dbl>\u001b[39m\u001b[23m \u001b[3m\u001b[90m<dbl>\u001b[39m\u001b[23m \u001b[3m\u001b[90m<dbl>\u001b[39m\u001b[23m \u001b[3m\u001b[90m<dbl>\u001b[39m\u001b[23m \u001b[3m\u001b[90m<dbl>\u001b[39m\u001b[23m   \u001b[3m\u001b[90m<dbl>\u001b[39m\u001b[23m   \u001b[3m\u001b[90m<dbl>\u001b[39m\u001b[23m   \u001b[3m\u001b[90m<dbl>\u001b[39m\u001b[23m   \u001b[3m\u001b[90m<dbl>\u001b[39m\u001b[23m   \u001b[3m\u001b[90m<dbl>\u001b[39m\u001b[23m\n",
      "\u001b[90m 1\u001b[39m   250    95    95    95     1  \u001b[4m2\u001b[24m004      80      \u001b[31mNA\u001b[39m      80      80      70\n",
      "\u001b[90m 2\u001b[39m    32    58    62    \u001b[31mNA\u001b[39m     0  \u001b[4m2\u001b[24m003      62      58      59      57      56\n",
      "\u001b[90m 3\u001b[39m   109   100    50    50    \u001b[31mNA\u001b[39m  \u001b[4m2\u001b[24m003      90      51      51      51      52\n",
      "\u001b[90m 4\u001b[39m   209    77    77    64     1  \u001b[4m2\u001b[24m004      66      72      88      82      67\n",
      "\u001b[90m 5\u001b[39m    94    77    50    77     1  \u001b[4m2\u001b[24m003     100     100     100      51      78\n",
      "\u001b[90m 6\u001b[39m   260   100    75   100     0  \u001b[4m2\u001b[24m004     100      60      70      55      70\n",
      "\u001b[90m 7\u001b[39m   258    77    94    86     1  \u001b[4m2\u001b[24m004      91      93      85      91      73\n",
      "\u001b[90m 8\u001b[39m   244    90    68    20     0  \u001b[4m2\u001b[24m004      67      66      31      67      63\n",
      "\u001b[90m 9\u001b[39m   180   100    79    77     0  \u001b[4m2\u001b[24m003      61      51      30      51      51\n",
      "\u001b[90m10\u001b[39m   182    75    50    64     1  \u001b[4m2\u001b[24m003      80      80      70      65      70\n",
      "\u001b[90m# … with 110 more rows, and 1 more variable: emp_q26 <dbl>\u001b[39m\n"
     ]
    }
   ],
   "source": [
    "#| warning: false\n",
    "library(tidyverse)\n",
    "\n",
    "helping <- read_csv(\"data/altruism.csv\")\n",
    "helping |> print()\n"
   ]
  },
  {
   "attachments": {},
   "cell_type": "markdown",
   "metadata": {},
   "source": [
    "::: {.callout-note}\n",
    "`read_csv()`의 자주 사용되는 옵션\n",
    "\n",
    "```r\n",
    "read_csv(\"data/file.csv\", skip = 2) # 첫 2절 스킵\n",
    "read_csv(\"data/file.csv\", na = \".\") # 결측치가 .으로 기록된 파일\n",
    "```\n",
    ":::"
   ]
  },
  {
   "attachments": {},
   "cell_type": "markdown",
   "metadata": {},
   "source": [
    "### csv 파일 쓰기\n",
    "`write_csv()`: 단, 쓰기를 하면서 변수 타입 소멸"
   ]
  },
  {
   "cell_type": "code",
   "execution_count": 8,
   "metadata": {
    "vscode": {
     "languageId": "r"
    }
   },
   "outputs": [],
   "source": [
    "write_csv(helping, file=\"data/helping_new.csv\")"
   ]
  },
  {
   "attachments": {},
   "cell_type": "markdown",
   "metadata": {},
   "source": [
    "## Excel spreadsheets\n",
    "`readxl` package\n",
    "\n",
    "`read_excel()`, `read_xlsx()`, `read_xls()`"
   ]
  },
  {
   "attachments": {},
   "cell_type": "markdown",
   "metadata": {},
   "source": [
    "### 엑셀 파일 읽기\n",
    "\n",
    "[stduents.xlsx 파일 링크](https://www.dropbox.com/s/f5z7vu8is2fbnvt/students.xlsx?dl=0)"
   ]
  },
  {
   "cell_type": "code",
   "execution_count": 4,
   "metadata": {
    "vscode": {
     "languageId": "r"
    }
   },
   "outputs": [
    {
     "name": "stdout",
     "output_type": "stream",
     "text": [
      "\u001b[90m# A tibble: 1,000 × 93\u001b[39m\n",
      "  stu_id sch_id sstratid   sex  race ethnic bys42a bys42b bys44a bys44b bys44c\n",
      "   \u001b[3m\u001b[90m<dbl>\u001b[39m\u001b[23m  \u001b[3m\u001b[90m<dbl>\u001b[39m\u001b[23m    \u001b[3m\u001b[90m<dbl>\u001b[39m\u001b[23m \u001b[3m\u001b[90m<dbl>\u001b[39m\u001b[23m \u001b[3m\u001b[90m<dbl>\u001b[39m\u001b[23m  \u001b[3m\u001b[90m<dbl>\u001b[39m\u001b[23m  \u001b[3m\u001b[90m<dbl>\u001b[39m\u001b[23m  \u001b[3m\u001b[90m<dbl>\u001b[39m\u001b[23m  \u001b[3m\u001b[90m<dbl>\u001b[39m\u001b[23m  \u001b[3m\u001b[90m<dbl>\u001b[39m\u001b[23m  \u001b[3m\u001b[90m<dbl>\u001b[39m\u001b[23m\n",
      "\u001b[90m1\u001b[39m \u001b[4m1\u001b[24m\u001b[4m2\u001b[24m\u001b[4m4\u001b[24m966   \u001b[4m1\u001b[24m249        1     2     4      1      3      4      2      4      4\n",
      "\u001b[90m2\u001b[39m \u001b[4m1\u001b[24m\u001b[4m2\u001b[24m\u001b[4m4\u001b[24m972   \u001b[4m1\u001b[24m249        1     1     4      1      4      5      1      3      3\n",
      "\u001b[90m3\u001b[39m \u001b[4m1\u001b[24m\u001b[4m7\u001b[24m\u001b[4m5\u001b[24m551   \u001b[4m1\u001b[24m755        1     2     3      0     \u001b[31mNA\u001b[39m      3      2      3      3\n",
      "\u001b[90m4\u001b[39m \u001b[4m1\u001b[24m\u001b[4m8\u001b[24m\u001b[4m0\u001b[24m660   \u001b[4m1\u001b[24m806        1     1     4      1      2     \u001b[31mNA\u001b[39m      1      4      4\n",
      "\u001b[90m5\u001b[39m \u001b[4m1\u001b[24m\u001b[4m8\u001b[24m\u001b[4m0\u001b[24m672   \u001b[4m1\u001b[24m806        1     2     4      1      2      3      1      4      3\n",
      "\u001b[90m6\u001b[39m \u001b[4m2\u001b[24m\u001b[4m9\u001b[24m\u001b[4m8\u001b[24m885   \u001b[4m2\u001b[24m988        2     1     3      0      5      4      2      3      3\n",
      "\u001b[90m# … with 994 more rows, and 82 more variables: bys44d <dbl>, bys44e <dbl>,\u001b[39m\n",
      "\u001b[90m#   bys44f <dbl>, bys44g <dbl>, bys44h <dbl>, bys44i <dbl>, bys44j <dbl>,\u001b[39m\n",
      "\u001b[90m#   bys44k <dbl>, bys44l <dbl>, bys44m <dbl>, bys48a <dbl>, bys48b <dbl>,\u001b[39m\n",
      "\u001b[90m#   bys79a <dbl>, byfamsiz <dbl>, famcomp <dbl>, bygrads <dbl>, byses <dbl>,\u001b[39m\n",
      "\u001b[90m#   byfaminc <dbl>, parocc <dbl>, bytxrstd <dbl>, bytxmstd <dbl>,\u001b[39m\n",
      "\u001b[90m#   bytxsstd <dbl>, bytxhstd <dbl>, bypared <dbl>, bytests <dbl>,\u001b[39m\n",
      "\u001b[90m#   par_inv <dbl>, f1s36a1 <dbl>, f1s36a2 <dbl>, f1s36b1 <dbl>, …\u001b[39m\n"
     ]
    }
   ],
   "source": [
    "library(readxl) # install.packages(\"readxl\")\n",
    "\n",
    "stud <- read_xlsx(\"data/students.xlsx\")\n",
    "stud |> print()"
   ]
  },
  {
   "attachments": {},
   "cell_type": "markdown",
   "metadata": {},
   "source": [
    "::: {.callout-note}\n",
    "Specify sheet either by position or by name\n",
    "```r\n",
    "read_excel(\"salaries.xlsx\", sheet = 2) # The default is sheet = 1\n",
    "read_excel(\"salaries.xlsx\", sheet = \"personnel\")\n",
    "```\n",
    ":::"
   ]
  },
  {
   "attachments": {},
   "cell_type": "markdown",
   "metadata": {},
   "source": [
    "## Statistical packages\n",
    "SPSS의 데이터: `read_sav()`\n",
    "\n",
    "[students-shorter.sav 파일 링크](https://www.dropbox.com/s/jwda3wib8dbf9rx/students-shorter.sav?dl=0)"
   ]
  },
  {
   "cell_type": "code",
   "execution_count": 5,
   "metadata": {
    "vscode": {
     "languageId": "r"
    }
   },
   "outputs": [
    {
     "name": "stdout",
     "output_type": "stream",
     "text": [
      "\u001b[90m# A tibble: 1,000 × 93\u001b[39m\n",
      "  stu_id    sch_id    sstratid sex     race    ethnic  bys42a   bys42b   bys44a \n",
      "  \u001b[3m\u001b[90m<dbl+lbl>\u001b[39m\u001b[23m \u001b[3m\u001b[90m<dbl+lbl>\u001b[39m\u001b[23m \u001b[3m\u001b[90m<dbl+lb>\u001b[39m\u001b[23m \u001b[3m\u001b[90m<dbl+l>\u001b[39m\u001b[23m \u001b[3m\u001b[90m<dbl+l>\u001b[39m\u001b[23m \u001b[3m\u001b[90m<dbl+l>\u001b[39m\u001b[23m \u001b[3m\u001b[90m<dbl+lb>\u001b[39m\u001b[23m \u001b[3m\u001b[90m<dbl+lb>\u001b[39m\u001b[23m \u001b[3m\u001b[90m<dbl+l>\u001b[39m\u001b[23m\n",
      "\u001b[90m1\u001b[39m \u001b[4m1\u001b[24m\u001b[4m2\u001b[24m\u001b[4m4\u001b[24m966    \u001b[4m1\u001b[24m249      1        2\u001b[90m [Fem\u001b[39m\u001b[90m…\u001b[39m 4\u001b[90m [Whi\u001b[39m\u001b[90m…\u001b[39m 1\u001b[90m [whi\u001b[39m\u001b[90m…\u001b[39m  3\u001b[90m [2-3\u001b[39m\u001b[90m…\u001b[39m  4\u001b[90m [3-4\u001b[39m\u001b[90m…\u001b[39m 2\u001b[90m [Agr\u001b[39m\u001b[90m…\u001b[39m\n",
      "\u001b[90m2\u001b[39m \u001b[4m1\u001b[24m\u001b[4m2\u001b[24m\u001b[4m4\u001b[24m972    \u001b[4m1\u001b[24m249      1        1\u001b[90m [Mal\u001b[39m\u001b[90m…\u001b[39m 4\u001b[90m [Whi\u001b[39m\u001b[90m…\u001b[39m 1\u001b[90m [whi\u001b[39m\u001b[90m…\u001b[39m  4\u001b[90m [3-4\u001b[39m\u001b[90m…\u001b[39m  5\u001b[90m [4-5\u001b[39m\u001b[90m…\u001b[39m 1\u001b[90m [Str\u001b[39m\u001b[90m…\u001b[39m\n",
      "\u001b[90m3\u001b[39m \u001b[4m1\u001b[24m\u001b[4m7\u001b[24m\u001b[4m5\u001b[24m551    \u001b[4m1\u001b[24m755      1        2\u001b[90m [Fem\u001b[39m\u001b[90m…\u001b[39m 3\u001b[90m [Bla\u001b[39m\u001b[90m…\u001b[39m 0\u001b[90m [blk\u001b[39m\u001b[90m…\u001b[39m \u001b[31mNA\u001b[39m        3\u001b[90m [2-3\u001b[39m\u001b[90m…\u001b[39m 2\u001b[90m [Agr\u001b[39m\u001b[90m…\u001b[39m\n",
      "\u001b[90m4\u001b[39m \u001b[4m1\u001b[24m\u001b[4m8\u001b[24m\u001b[4m0\u001b[24m660    \u001b[4m1\u001b[24m806      1        1\u001b[90m [Mal\u001b[39m\u001b[90m…\u001b[39m 4\u001b[90m [Whi\u001b[39m\u001b[90m…\u001b[39m 1\u001b[90m [whi\u001b[39m\u001b[90m…\u001b[39m  2\u001b[90m [1-2\u001b[39m\u001b[90m…\u001b[39m \u001b[31mNA\u001b[39m       1\u001b[90m [Str\u001b[39m\u001b[90m…\u001b[39m\n",
      "\u001b[90m5\u001b[39m \u001b[4m1\u001b[24m\u001b[4m8\u001b[24m\u001b[4m0\u001b[24m672    \u001b[4m1\u001b[24m806      1        2\u001b[90m [Fem\u001b[39m\u001b[90m…\u001b[39m 4\u001b[90m [Whi\u001b[39m\u001b[90m…\u001b[39m 1\u001b[90m [whi\u001b[39m\u001b[90m…\u001b[39m  2\u001b[90m [1-2\u001b[39m\u001b[90m…\u001b[39m  3\u001b[90m [2-3\u001b[39m\u001b[90m…\u001b[39m 1\u001b[90m [Str\u001b[39m\u001b[90m…\u001b[39m\n",
      "\u001b[90m6\u001b[39m \u001b[4m2\u001b[24m\u001b[4m9\u001b[24m\u001b[4m8\u001b[24m885    \u001b[4m2\u001b[24m988      2        1\u001b[90m [Mal\u001b[39m\u001b[90m…\u001b[39m 3\u001b[90m [Bla\u001b[39m\u001b[90m…\u001b[39m 0\u001b[90m [blk\u001b[39m\u001b[90m…\u001b[39m  5\u001b[90m [4-5\u001b[39m\u001b[90m…\u001b[39m  4\u001b[90m [3-4\u001b[39m\u001b[90m…\u001b[39m 2\u001b[90m [Agr\u001b[39m\u001b[90m…\u001b[39m\n",
      "\u001b[90m# … with 994 more rows, and 84 more variables: bys44b <dbl+lbl>,\u001b[39m\n",
      "\u001b[90m#   bys44c <dbl+lbl>, bys44d <dbl+lbl>, bys44e <dbl+lbl>, bys44f <dbl+lbl>,\u001b[39m\n",
      "\u001b[90m#   bys44g <dbl+lbl>, bys44h <dbl+lbl>, bys44i <dbl+lbl>, bys44j <dbl+lbl>,\u001b[39m\n",
      "\u001b[90m#   bys44k <dbl+lbl>, bys44l <dbl+lbl>, bys44m <dbl+lbl>, bys48a <dbl+lbl>,\u001b[39m\n",
      "\u001b[90m#   bys48b <dbl+lbl>, bys79a <dbl+lbl>, byfamsiz <dbl+lbl>, famcomp <dbl+lbl>,\u001b[39m\n",
      "\u001b[90m#   bygrads <dbl+lbl>, byses <dbl+lbl>, byfaminc <dbl+lbl>, parocc <dbl>,\u001b[39m\n",
      "\u001b[90m#   bytxrstd <dbl+lbl>, bytxmstd <dbl+lbl>, bytxsstd <dbl+lbl>, …\u001b[39m\n"
     ]
    }
   ],
   "source": [
    "library(haven) # install.packages(\"haven\")\n",
    "\n",
    "stud_spss <- read_sav(\"data/students-shorter.sav\")\n",
    "stud_spss |> print()"
   ]
  },
  {
   "cell_type": "code",
   "execution_count": 6,
   "metadata": {
    "vscode": {
     "languageId": "r"
    }
   },
   "outputs": [
    {
     "name": "stdout",
     "output_type": "stream",
     "text": [
      "\u001b[90m# A tibble: 1,000 × 1\u001b[39m\n",
      "  ethnic            \n",
      "  \u001b[3m\u001b[90m<dbl+lbl>\u001b[39m\u001b[23m         \n",
      "\u001b[90m1\u001b[39m 1\u001b[90m [white-asian]\u001b[39m   \n",
      "\u001b[90m2\u001b[39m 1\u001b[90m [white-asian]\u001b[39m   \n",
      "\u001b[90m3\u001b[39m 0\u001b[90m [blk,namer,hisp]\u001b[39m\n",
      "\u001b[90m4\u001b[39m 1\u001b[90m [white-asian]\u001b[39m   \n",
      "\u001b[90m5\u001b[39m 1\u001b[90m [white-asian]\u001b[39m   \n",
      "\u001b[90m6\u001b[39m 0\u001b[90m [blk,namer,hisp]\u001b[39m\n",
      "\u001b[90m# … with 994 more rows\u001b[39m\n"
     ]
    }
   ],
   "source": [
    "stud_spss |>\n",
    "    select(ethnic) |>\n",
    "    print()"
   ]
  },
  {
   "attachments": {},
   "cell_type": "markdown",
   "metadata": {},
   "source": [
    "Labels 제거하기"
   ]
  },
  {
   "cell_type": "code",
   "execution_count": 7,
   "metadata": {
    "vscode": {
     "languageId": "r"
    }
   },
   "outputs": [
    {
     "name": "stdout",
     "output_type": "stream",
     "text": [
      "\u001b[90m# A tibble: 1,000 × 93\u001b[39m\n",
      "  stu_id sch_id sstratid   sex  race ethnic bys42a bys42b bys44a bys44b bys44c\n",
      "   \u001b[3m\u001b[90m<dbl>\u001b[39m\u001b[23m  \u001b[3m\u001b[90m<dbl>\u001b[39m\u001b[23m    \u001b[3m\u001b[90m<dbl>\u001b[39m\u001b[23m \u001b[3m\u001b[90m<dbl>\u001b[39m\u001b[23m \u001b[3m\u001b[90m<dbl>\u001b[39m\u001b[23m  \u001b[3m\u001b[90m<dbl>\u001b[39m\u001b[23m  \u001b[3m\u001b[90m<dbl>\u001b[39m\u001b[23m  \u001b[3m\u001b[90m<dbl>\u001b[39m\u001b[23m  \u001b[3m\u001b[90m<dbl>\u001b[39m\u001b[23m  \u001b[3m\u001b[90m<dbl>\u001b[39m\u001b[23m  \u001b[3m\u001b[90m<dbl>\u001b[39m\u001b[23m\n",
      "\u001b[90m1\u001b[39m \u001b[4m1\u001b[24m\u001b[4m2\u001b[24m\u001b[4m4\u001b[24m966   \u001b[4m1\u001b[24m249        1     2     4      1      3      4      2      4      4\n",
      "\u001b[90m2\u001b[39m \u001b[4m1\u001b[24m\u001b[4m2\u001b[24m\u001b[4m4\u001b[24m972   \u001b[4m1\u001b[24m249        1     1     4      1      4      5      1      3      3\n",
      "\u001b[90m3\u001b[39m \u001b[4m1\u001b[24m\u001b[4m7\u001b[24m\u001b[4m5\u001b[24m551   \u001b[4m1\u001b[24m755        1     2     3      0     \u001b[31mNA\u001b[39m      3      2      3      3\n",
      "\u001b[90m4\u001b[39m \u001b[4m1\u001b[24m\u001b[4m8\u001b[24m\u001b[4m0\u001b[24m660   \u001b[4m1\u001b[24m806        1     1     4      1      2     \u001b[31mNA\u001b[39m      1      4      4\n",
      "\u001b[90m5\u001b[39m \u001b[4m1\u001b[24m\u001b[4m8\u001b[24m\u001b[4m0\u001b[24m672   \u001b[4m1\u001b[24m806        1     2     4      1      2      3      1      4      3\n",
      "\u001b[90m6\u001b[39m \u001b[4m2\u001b[24m\u001b[4m9\u001b[24m\u001b[4m8\u001b[24m885   \u001b[4m2\u001b[24m988        2     1     3      0      5      4      2      3      3\n",
      "\u001b[90m# … with 994 more rows, and 82 more variables: bys44d <dbl>, bys44e <dbl>,\u001b[39m\n",
      "\u001b[90m#   bys44f <dbl>, bys44g <dbl>, bys44h <dbl>, bys44i <dbl>, bys44j <dbl>,\u001b[39m\n",
      "\u001b[90m#   bys44k <dbl>, bys44l <dbl>, bys44m <dbl>, bys48a <dbl>, bys48b <dbl>,\u001b[39m\n",
      "\u001b[90m#   bys79a <dbl>, byfamsiz <dbl>, famcomp <dbl>, bygrads <dbl>, byses <dbl>,\u001b[39m\n",
      "\u001b[90m#   byfaminc <dbl>, parocc <dbl>, bytxrstd <dbl>, bytxmstd <dbl>,\u001b[39m\n",
      "\u001b[90m#   bytxsstd <dbl>, bytxhstd <dbl>, bypared <dbl>, bytests <dbl>,\u001b[39m\n",
      "\u001b[90m#   par_inv <dbl>, f1s36a1 <dbl>, f1s36a2 <dbl>, f1s36b1 <dbl>, …\u001b[39m\n"
     ]
    }
   ],
   "source": [
    "library(labelled) # install.packages(\"labelled\")\n",
    "stud <- stud_spss |>\n",
    "    remove_val_labels()\n",
    "stud |> print()"
   ]
  }
 ],
 "metadata": {
  "kernelspec": {
   "display_name": "R",
   "language": "R",
   "name": "ir"
  },
  "language_info": {
   "codemirror_mode": "r",
   "file_extension": ".r",
   "mimetype": "text/x-r-source",
   "name": "R",
   "pygments_lexer": "r",
   "version": "4.2.2"
  },
  "orig_nbformat": 4
 },
 "nbformat": 4,
 "nbformat_minor": 2
}
