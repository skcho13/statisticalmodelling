{
 "cells": [
  {
   "attachments": {},
   "cell_type": "raw",
   "metadata": {},
   "source": [
    "---\n",
    "title: 환경설정\n",
    "subtitle: Mixed\n",
    "date: Feb 17, 2023\n",
    "author: Sungkyun Cho\n",
    "---"
   ]
  },
  {
   "attachments": {},
   "cell_type": "markdown",
   "metadata": {},
   "source": [
    "## R 및 RStudio 설치\n",
    "\n",
    "[R 다운로드 및 설치](https://cran.r-project.org/)\n",
    "\n",
    "- Windows인 경우 > Download R for Windows > base > Download R-4.2.2 for Windows\n",
    "  - [다운로드 링크](https://cran.r-project.org/bin/windows/base/R-4.2.2-win.exe)\n",
    "- Mac인 경우 > Download R for macOS > R-4.2.2.pkg 또는 R-4.2.2-arm64.pkg (Apple silicon)\n",
    "  - [다운로드 링크 일반](https://cran.r-project.org/bin/macosx/big-sur-arm64/base/R-4.2.2-arm64.pkg)  \n",
    "  - [다운로드 링크 for Apple silicon](https://cran.r-project.org/bin/macosx/big-sur-arm64/base/R-4.2.2-arm64.pkg)\n",
    "  \n",
    "[RStudio 다운로드 및 설치](https://posit.co/download/rstudio-desktop/)\n",
    "\n",
    "- 2: Install RStudio"
   ]
  },
  {
   "attachments": {},
   "cell_type": "markdown",
   "metadata": {},
   "source": [
    "## RStudio 소개"
   ]
  },
  {
   "attachments": {},
   "cell_type": "markdown",
   "metadata": {},
   "source": [
    "4개의 패널로 구성\n",
    "\n",
    "**Project** 단위로 분석\n",
    "\n",
    "- 시작시 project을 새로 만들거나 불러와서 실행: filename.Rproj 형태로 저장\n",
    "- File > New Project or +R 버튼 > New Directory > New Project\n",
    "  - Directory name, Sub directory\n",
    "\n",
    "Working directory\n",
    "\n",
    "- project에서 참조하는 최상위 폴더\n",
    "- 하위폴더 지시: 예) data/file.sav\n",
    "\n",
    "R script 생성, 저장\n",
    "  \n",
    "RStudio 닫기, 열기\n",
    "\n",
    "- Workspace 저장 vs. R script 저장\n",
    "- Workspace save/load: .Rdata 형태로 저장\n",
    "\n",
    "Session\n",
    "\n",
    "- Restart R\n",
    "\n",
    "### 환경설정: Tools > Global Options\n",
    "Save workspace to .RData on exit: working space 자동 저장\n",
    "\n",
    "Code\n",
    "\n",
    "- soft-wrap R source files\n",
    "- Use native pipe operator\n",
    "\n",
    "Appearance\n",
    "\n",
    "- Zoom: 전체 보기 줌\n",
    "- Ediotr font: Cascadia Mono (Win), Menlo (Mac)\n",
    "- Editor font size: 글자 크기\n",
    "- theme: Tomorrow Night??"
   ]
  },
  {
   "attachments": {},
   "cell_type": "markdown",
   "metadata": {},
   "source": [
    "## 패키지의 설치"
   ]
  },
  {
   "cell_type": "code",
   "execution_count": null,
   "metadata": {
    "vscode": {
     "languageId": "r"
    }
   },
   "outputs": [],
   "source": [
    "# 메뉴를 통한 설치\n",
    "\n",
    "# 명령어를 통한 설치\n",
    "install.packages(\"name\")\n",
    "\n",
    "# 수업에서 필요한 기본 패키지\n",
    "install.packages(\"tidyverse\") # 패키지들의 패키지\n",
    "\n",
    "## ✔ ggplot2 3.3.6     ✔ purrr   0.3.4\n",
    "## ✔ tibble  3.1.7     ✔ dplyr   1.0.9\n",
    "## ✔ tidyr   1.2.0     ✔ stringr 1.4.0\n",
    "## ✔ readr   2.1.2     ✔ forcats 0.5.1\n",
    "\n",
    "# 패키지들 간의 함수의 충돌에 대해서... mask\n",
    "\n",
    "# 추가 패키지\n",
    "install.packages(c(\"mosaicData\", \"palmerpenguins\")) # c(): combine items\n",
    "\n",
    "# 패키지 로드: 필요한 패키지는 세션마다 시행해야 함\n",
    "library(\"name\")\n",
    "\te.g. library(tidyverse)"
   ]
  },
  {
   "attachments": {},
   "cell_type": "markdown",
   "metadata": {},
   "source": [
    "## 단축키\n",
    "\n",
    "- 자동완성: tab \\\n",
    "- 현재 라인 실행: Ctrl+Enter (Win) &ensp; | &ensp; Command+Return (Mac)\n",
    "- assignment operator (<-) 입력: Alt+- (Win) &ensp; | &ensp; Option+- (Mac)\n",
    "- pipe operator (%>%) 입력: Ctrl+Shift+M (Win) &ensp; | &ensp; Shift+Command+M (Mac) \n",
    "- consol에서 화살표 키\n",
    "- copy, paste\n",
    "- undo, redo: Ctrl+Z / Ctrl+Shift+Z (Win) &ensp; | &ensp; Command+Z / Command+Shift+Z (Mac)\n",
    "- Copy Lines Up/Down: Shift+Alt+Up/Down (Win) &ensp; | &ensp; Option+Command+Up or Down (Mac)\n",
    "\n",
    "단축키 변경: Tools >> modify keyboard shortcuts: e.g. pipe operator: Alt+."
   ]
  },
  {
   "attachments": {},
   "cell_type": "markdown",
   "metadata": {},
   "source": [
    "## 도움말\n",
    "help() 또는 ?  \n",
    "e.g. help(factor), ?factor"
   ]
  }
 ],
 "metadata": {
  "kernelspec": {
   "display_name": "R",
   "language": "R",
   "name": "ir"
  },
  "language_info": {
   "codemirror_mode": {
    "name": "ipython",
    "version": 3
   },
   "file_extension": ".py",
   "mimetype": "text/x-python",
   "name": "R",
   "nbconvert_exporter": "python",
   "pygments_lexer": "ipython3",
   "version": "3.9.16"
  },
  "orig_nbformat": 4,
  "vscode": {
   "interpreter": {
    "hash": "2102049eac8f896c12f099595fe6bff4171846074f5e3145c0f14dc8ecafca99"
   }
  }
 },
 "nbformat": 4,
 "nbformat_minor": 2
}
