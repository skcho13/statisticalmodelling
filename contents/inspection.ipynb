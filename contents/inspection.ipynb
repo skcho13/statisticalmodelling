{
 "cells": [
  {
   "cell_type": "raw",
   "metadata": {},
   "source": [
    "---\n",
    "title: Inspecting\n",
    "subtitle: Mixed\n",
    "date: Feb 11, 2023\n",
    "author: Sungkyun Cho\n",
    "---"
   ]
  },
  {
   "attachments": {},
   "cell_type": "markdown",
   "metadata": {},
   "source": [
    "# tibble/dataframe 살펴보기 명령어들\n",
    "\n",
    "head(tibble, 20)\n",
    "tail(tibble, 20)\n",
    "view(tibble) # in tidyverse, R에서는 대문자 View()\n",
    "\n",
    "glimpse(tibble)\n",
    "slice(tibble, 5:20) # row numbers\n",
    "\n",
    "str() # structure\n",
    "\n",
    "# pipe operator 이용\n",
    "ex. iris2 %>% \n",
    "glimpse() # ctrl + enter"
   ]
  }
 ],
 "metadata": {
  "kernelspec": {
   "display_name": "R",
   "language": "R",
   "name": "ir"
  },
  "language_info": {
   "name": "R",
   "version": "3.11.0"
  },
  "orig_nbformat": 4,
  "vscode": {
   "interpreter": {
    "hash": "aee8b7b246df8f9039afb4144a1f6fd8d2ca17a180786b69acc140d282b71a49"
   }
  }
 },
 "nbformat": 4,
 "nbformat_minor": 2
}
